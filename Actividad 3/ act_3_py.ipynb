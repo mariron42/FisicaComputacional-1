{
  "nbformat": 4,
  "nbformat_minor": 0,
  "metadata": {
    "colab": {
      "name": "act 3.py",
      "provenance": [],
      "authorship_tag": "ABX9TyO4iIq5jCR5TtiVqMILFrlK",
      "include_colab_link": true
    },
    "kernelspec": {
      "name": "python3",
      "display_name": "Python 3"
    }
  },
  "cells": [
    {
      "cell_type": "markdown",
      "metadata": {
        "id": "view-in-github",
        "colab_type": "text"
      },
      "source": [
        "<a href=\"https://colab.research.google.com/github/mariron42/FisicaComputacional-1/blob/main/Actividad%203/%20act_3_py.ipynb\" target=\"_parent\"><img src=\"https://colab.research.google.com/assets/colab-badge.svg\" alt=\"Open In Colab\"/></a>"
      ]
    },
    {
      "cell_type": "markdown",
      "metadata": {
        "id": "ML4nXMwpKkNw"
      },
      "source": [
        "# **Act 3**: pandas y el clima \r\n",
        "---\r\n",
        "Por Marcel Herrera Rendón "
      ]
    },
    {
      "cell_type": "markdown",
      "metadata": {
        "id": "1XEN2XqSi0JT"
      },
      "source": [
        "***Paso 1***\r\n",
        "---\r\n",
        "\r\n",
        "\r\n",
        "---\r\n",
        "\r\n",
        "\r\n",
        "\r\n",
        "\r\n"
      ]
    },
    {
      "cell_type": "markdown",
      "metadata": {
        "id": "jEGr1SnrFZfi"
      },
      "source": [
        "**Importar librerías y cargar base de datos**"
      ]
    },
    {
      "cell_type": "code",
      "metadata": {
        "id": "3urEAFtkFgjB"
      },
      "source": [
        "import pandas as pd\r\n",
        "import numpy as np\r\n",
        "\r\n",
        "# Tomar la dirección URL del archivo en formato 'raw'\r\n",
        "#Hacer una variable url para luego no tenener que escribir las la url abajo\r\n",
        "url = 'https://raw.githubusercontent.com/mariron42/Los-trabajos-de-marcel/main/act3/2033.txt'\r\n",
        "\r\n",
        "\r\n",
        "\r\n",
        "\r\n",
        "\r\n",
        "\r\n",
        "#variable que da nombre a las colunas \r\n",
        "my_cols = ['Fecha', 'Precip', 'Evap', 'Tmax', 'Tmin'] #Nombres de las columnas\r\n",
        "\r\n",
        "df_dist = pd.read_csv(url, names=my_cols, encoding='cp1251', sep='\\s+', header=None, skiprows=19, skipfooter=1, engine='python')\r\n",
        "# El separador de datos es de uno o más espacios, sep='\\s+'\r\n",
        "# El archivo tiene códigos ASCII extendido (Español), encoding='cp1251' Windows (Europa Occidental)\r\n",
        "# Se brincará los primeros 19 renglones y el último, afirmamos que no nay encabezado\r\n",
        "# Se procesan los datos utilizando Python, engine='python' \r\n"
      ],
      "execution_count": null,
      "outputs": []
    },
    {
      "cell_type": "markdown",
      "metadata": {
        "id": "jtCrttQdjJDN"
      },
      "source": [
        "***Paso 3***\r\n",
        "---\r\n",
        "\r\n",
        "\r\n",
        "---\r\n",
        "\r\n",
        "\r\n",
        "\r\n"
      ]
    },
    {
      "cell_type": "markdown",
      "metadata": {
        "id": "2taQruqLiYmE"
      },
      "source": [
        "**Mostrar los primeros y ultimos 10 renglones de la base de datos**"
      ]
    },
    {
      "cell_type": "code",
      "metadata": {
        "colab": {
          "base_uri": "https://localhost:8080/"
        },
        "id": "JfiqIoNjSXUw",
        "outputId": "622b8dec-c40d-4e4f-830b-11f430c94ed3"
      },
      "source": [
        "#Encabezado del dataframe(primeros 10 renglones)\r\n",
        "print(df_dist.head(10))\r\n",
        "#Final del dataframe(Ultimos 10 renglones)\r\n",
        "print(df_dist.tail(10))"
      ],
      "execution_count": null,
      "outputs": [
        {
          "output_type": "stream",
          "text": [
            "        Fecha Precip Evap  Tmax  Tmin\n",
            "0  01/02/1944      0  1.2  23.7   4.8\n",
            "1  02/02/1944      0  1.2  24.6   5.7\n",
            "2  03/02/1944      0  2.8  21.8   7.4\n",
            "3  04/02/1944      0  2.1  21.4  11.9\n",
            "4  05/02/1944      0  2.2  21.2   8.4\n",
            "5  06/02/1944      9  0.6  21.1   6.5\n",
            "6  07/02/1944      0  1.2  21.7   5.7\n",
            "7  08/02/1944      0    3  22.3   8.1\n",
            "8  09/02/1944      0  2.3  21.9   7.9\n",
            "9  10/02/1944      0  4.5  21.2   5.1\n",
            "            Fecha Precip Evap  Tmax Tmin\n",
            "23764  22/12/2012      0  1.6    19  2.5\n",
            "23765  23/12/2012      0  1.9  19.8  4.5\n",
            "23766  24/12/2012      0  1.4  23.4  5.5\n",
            "23767  25/12/2012      0  4.5  17.6  6.5\n",
            "23768  26/12/2012      0  3.1  19.8  4.5\n",
            "23769  27/12/2012      0  3.3  17.6    8\n",
            "23770  28/12/2012      0  2.6  17.8    5\n",
            "23771  29/12/2012      0  2.1    18  3.5\n",
            "23772  30/12/2012    0.5  1.6  16.4  3.5\n",
            "23773  31/12/2012      0    2  16.4    4\n"
          ],
          "name": "stdout"
        }
      ]
    },
    {
      "cell_type": "markdown",
      "metadata": {
        "id": "WY4qTwEY6hYJ"
      },
      "source": [
        "**Tamaño del la base de datos, columnas y renglones (no kb o mb)**\r\n",
        "\r\n",
        "\r\n"
      ]
    },
    {
      "cell_type": "code",
      "metadata": {
        "colab": {
          "base_uri": "https://localhost:8080/"
        },
        "id": "80wQNQk8SZMl",
        "outputId": "c041739d-224d-46db-bb5c-91c404e968b4"
      },
      "source": [
        "# Investigamos su tamaño con la función shape \r\n",
        "df_dist.shape\r\n",
        "#(renglones, columnas)"
      ],
      "execution_count": null,
      "outputs": [
        {
          "output_type": "execute_result",
          "data": {
            "text/plain": [
              "(23774, 5)"
            ]
          },
          "metadata": {
            "tags": []
          },
          "execution_count": 46
        }
      ]
    },
    {
      "cell_type": "markdown",
      "metadata": {
        "id": "wcjmPb3x9BeG"
      },
      "source": [
        "**Información del dataframe**"
      ]
    },
    {
      "cell_type": "code",
      "metadata": {
        "colab": {
          "base_uri": "https://localhost:8080/"
        },
        "id": "BaiWfvttSdlP",
        "outputId": "e192cf99-ba5f-45eb-eb3c-76c6f88bcbcc"
      },
      "source": [
        "# Aquí dice el nombre de las columnas, numero de renglones en cada una y el uso de memoría\r\n",
        "\r\n",
        "df_dist.info()"
      ],
      "execution_count": null,
      "outputs": [
        {
          "output_type": "stream",
          "text": [
            "<class 'pandas.core.frame.DataFrame'>\n",
            "RangeIndex: 23774 entries, 0 to 23773\n",
            "Data columns (total 5 columns):\n",
            " #   Column  Non-Null Count  Dtype \n",
            "---  ------  --------------  ----- \n",
            " 0   Fecha   23774 non-null  object\n",
            " 1   Precip  23774 non-null  object\n",
            " 2   Evap    23774 non-null  object\n",
            " 3   Tmax    23774 non-null  object\n",
            " 4   Tmin    23774 non-null  object\n",
            "dtypes: object(5)\n",
            "memory usage: 928.8+ KB\n"
          ],
          "name": "stdout"
        }
      ]
    },
    {
      "cell_type": "markdown",
      "metadata": {
        "id": "iR8pM58H9hzO"
      },
      "source": [
        "**Respaldar el data frame**\r\n",
        "\r\n",
        "\r\n"
      ]
    },
    {
      "cell_type": "code",
      "metadata": {
        "colab": {
          "base_uri": "https://localhost:8080/",
          "height": 359
        },
        "id": "HCvUlbG-ShWa",
        "outputId": "a27b9c9e-c834-4dee-ec85-8c3489528798"
      },
      "source": [
        "# Hacemos una copia de trabajo y preservamos el dataframe original\r\n",
        "df_work0 = df_dist.copy()#Esta es la función para respaldar el data frame\r\n",
        "\r\n",
        "df_work0.iloc[16400:16410] #con esto solo se muestra una parte de la base de datos donde hay nulos\r\n",
        "#Nota: yo tuve que buscar esa parte"
      ],
      "execution_count": null,
      "outputs": [
        {
          "output_type": "execute_result",
          "data": {
            "text/html": [
              "<div>\n",
              "<style scoped>\n",
              "    .dataframe tbody tr th:only-of-type {\n",
              "        vertical-align: middle;\n",
              "    }\n",
              "\n",
              "    .dataframe tbody tr th {\n",
              "        vertical-align: top;\n",
              "    }\n",
              "\n",
              "    .dataframe thead th {\n",
              "        text-align: right;\n",
              "    }\n",
              "</style>\n",
              "<table border=\"1\" class=\"dataframe\">\n",
              "  <thead>\n",
              "    <tr style=\"text-align: right;\">\n",
              "      <th></th>\n",
              "      <th>Fecha</th>\n",
              "      <th>Precip</th>\n",
              "      <th>Evap</th>\n",
              "      <th>Tmax</th>\n",
              "      <th>Tmin</th>\n",
              "    </tr>\n",
              "  </thead>\n",
              "  <tbody>\n",
              "    <tr>\n",
              "      <th>16400</th>\n",
              "      <td>01/09/1992</td>\n",
              "      <td>0</td>\n",
              "      <td>Nulo</td>\n",
              "      <td>37.2</td>\n",
              "      <td>20.6</td>\n",
              "    </tr>\n",
              "    <tr>\n",
              "      <th>16401</th>\n",
              "      <td>02/09/1992</td>\n",
              "      <td>0</td>\n",
              "      <td>Nulo</td>\n",
              "      <td>38.9</td>\n",
              "      <td>22.6</td>\n",
              "    </tr>\n",
              "    <tr>\n",
              "      <th>16402</th>\n",
              "      <td>03/09/1992</td>\n",
              "      <td>0</td>\n",
              "      <td>Nulo</td>\n",
              "      <td>39.1</td>\n",
              "      <td>21.8</td>\n",
              "    </tr>\n",
              "    <tr>\n",
              "      <th>16403</th>\n",
              "      <td>04/09/1992</td>\n",
              "      <td>0</td>\n",
              "      <td>Nulo</td>\n",
              "      <td>37.8</td>\n",
              "      <td>21.6</td>\n",
              "    </tr>\n",
              "    <tr>\n",
              "      <th>16404</th>\n",
              "      <td>05/09/1992</td>\n",
              "      <td>0</td>\n",
              "      <td>Nulo</td>\n",
              "      <td>38.3</td>\n",
              "      <td>21.9</td>\n",
              "    </tr>\n",
              "    <tr>\n",
              "      <th>16405</th>\n",
              "      <td>06/09/1992</td>\n",
              "      <td>0</td>\n",
              "      <td>Nulo</td>\n",
              "      <td>38.5</td>\n",
              "      <td>20.8</td>\n",
              "    </tr>\n",
              "    <tr>\n",
              "      <th>16406</th>\n",
              "      <td>07/09/1992</td>\n",
              "      <td>0</td>\n",
              "      <td>Nulo</td>\n",
              "      <td>38.6</td>\n",
              "      <td>21.5</td>\n",
              "    </tr>\n",
              "    <tr>\n",
              "      <th>16407</th>\n",
              "      <td>08/09/1992</td>\n",
              "      <td>0</td>\n",
              "      <td>Nulo</td>\n",
              "      <td>38.3</td>\n",
              "      <td>20.6</td>\n",
              "    </tr>\n",
              "    <tr>\n",
              "      <th>16408</th>\n",
              "      <td>09/09/1992</td>\n",
              "      <td>0</td>\n",
              "      <td>Nulo</td>\n",
              "      <td>40.9</td>\n",
              "      <td>17.8</td>\n",
              "    </tr>\n",
              "    <tr>\n",
              "      <th>16409</th>\n",
              "      <td>10/09/1992</td>\n",
              "      <td>0</td>\n",
              "      <td>Nulo</td>\n",
              "      <td>41.7</td>\n",
              "      <td>18.9</td>\n",
              "    </tr>\n",
              "  </tbody>\n",
              "</table>\n",
              "</div>"
            ],
            "text/plain": [
              "            Fecha Precip  Evap  Tmax  Tmin\n",
              "16400  01/09/1992      0  Nulo  37.2  20.6\n",
              "16401  02/09/1992      0  Nulo  38.9  22.6\n",
              "16402  03/09/1992      0  Nulo  39.1  21.8\n",
              "16403  04/09/1992      0  Nulo  37.8  21.6\n",
              "16404  05/09/1992      0  Nulo  38.3  21.9\n",
              "16405  06/09/1992      0  Nulo  38.5  20.8\n",
              "16406  07/09/1992      0  Nulo  38.6  21.5\n",
              "16407  08/09/1992      0  Nulo  38.3  20.6\n",
              "16408  09/09/1992      0  Nulo  40.9  17.8\n",
              "16409  10/09/1992      0  Nulo  41.7  18.9"
            ]
          },
          "metadata": {
            "tags": []
          },
          "execution_count": 48
        }
      ]
    },
    {
      "cell_type": "code",
      "metadata": {
        "colab": {
          "base_uri": "https://localhost:8080/",
          "height": 359
        },
        "id": "9KDG15OuSkrK",
        "outputId": "6ac342ad-8d0c-4d88-e3b7-7780e6a790e9"
      },
      "source": [
        "# Reemplazamos los textos 'Nulo' por espacio en blanco ''\r\n",
        "str_Nulo = \"Nulo\" \r\n",
        "#creamos la variable \"str_Nulo\"\r\n",
        "\r\n",
        "df_work1 = df_work0.replace(to_replace=str_Nulo, value='', regex=True)\r\n",
        "\r\n",
        "# Aquí es donde reamente se remplasa la variable\r\n",
        "\r\n",
        "\r\n",
        "df_work1.iloc[16400:16410] #con esto solo se muestra una parte de la base de datos donde ya no hay nulos\r\n",
        "#Nota: yo tuve que buscar esa parte\r\n",
        "#Nota2: No olvidar usar work1 y no work0 me costó media hora darme cueta de eso."
      ],
      "execution_count": null,
      "outputs": [
        {
          "output_type": "execute_result",
          "data": {
            "text/html": [
              "<div>\n",
              "<style scoped>\n",
              "    .dataframe tbody tr th:only-of-type {\n",
              "        vertical-align: middle;\n",
              "    }\n",
              "\n",
              "    .dataframe tbody tr th {\n",
              "        vertical-align: top;\n",
              "    }\n",
              "\n",
              "    .dataframe thead th {\n",
              "        text-align: right;\n",
              "    }\n",
              "</style>\n",
              "<table border=\"1\" class=\"dataframe\">\n",
              "  <thead>\n",
              "    <tr style=\"text-align: right;\">\n",
              "      <th></th>\n",
              "      <th>Fecha</th>\n",
              "      <th>Precip</th>\n",
              "      <th>Evap</th>\n",
              "      <th>Tmax</th>\n",
              "      <th>Tmin</th>\n",
              "    </tr>\n",
              "  </thead>\n",
              "  <tbody>\n",
              "    <tr>\n",
              "      <th>16400</th>\n",
              "      <td>01/09/1992</td>\n",
              "      <td>0</td>\n",
              "      <td></td>\n",
              "      <td>37.2</td>\n",
              "      <td>20.6</td>\n",
              "    </tr>\n",
              "    <tr>\n",
              "      <th>16401</th>\n",
              "      <td>02/09/1992</td>\n",
              "      <td>0</td>\n",
              "      <td></td>\n",
              "      <td>38.9</td>\n",
              "      <td>22.6</td>\n",
              "    </tr>\n",
              "    <tr>\n",
              "      <th>16402</th>\n",
              "      <td>03/09/1992</td>\n",
              "      <td>0</td>\n",
              "      <td></td>\n",
              "      <td>39.1</td>\n",
              "      <td>21.8</td>\n",
              "    </tr>\n",
              "    <tr>\n",
              "      <th>16403</th>\n",
              "      <td>04/09/1992</td>\n",
              "      <td>0</td>\n",
              "      <td></td>\n",
              "      <td>37.8</td>\n",
              "      <td>21.6</td>\n",
              "    </tr>\n",
              "    <tr>\n",
              "      <th>16404</th>\n",
              "      <td>05/09/1992</td>\n",
              "      <td>0</td>\n",
              "      <td></td>\n",
              "      <td>38.3</td>\n",
              "      <td>21.9</td>\n",
              "    </tr>\n",
              "    <tr>\n",
              "      <th>16405</th>\n",
              "      <td>06/09/1992</td>\n",
              "      <td>0</td>\n",
              "      <td></td>\n",
              "      <td>38.5</td>\n",
              "      <td>20.8</td>\n",
              "    </tr>\n",
              "    <tr>\n",
              "      <th>16406</th>\n",
              "      <td>07/09/1992</td>\n",
              "      <td>0</td>\n",
              "      <td></td>\n",
              "      <td>38.6</td>\n",
              "      <td>21.5</td>\n",
              "    </tr>\n",
              "    <tr>\n",
              "      <th>16407</th>\n",
              "      <td>08/09/1992</td>\n",
              "      <td>0</td>\n",
              "      <td></td>\n",
              "      <td>38.3</td>\n",
              "      <td>20.6</td>\n",
              "    </tr>\n",
              "    <tr>\n",
              "      <th>16408</th>\n",
              "      <td>09/09/1992</td>\n",
              "      <td>0</td>\n",
              "      <td></td>\n",
              "      <td>40.9</td>\n",
              "      <td>17.8</td>\n",
              "    </tr>\n",
              "    <tr>\n",
              "      <th>16409</th>\n",
              "      <td>10/09/1992</td>\n",
              "      <td>0</td>\n",
              "      <td></td>\n",
              "      <td>41.7</td>\n",
              "      <td>18.9</td>\n",
              "    </tr>\n",
              "  </tbody>\n",
              "</table>\n",
              "</div>"
            ],
            "text/plain": [
              "            Fecha Precip Evap  Tmax  Tmin\n",
              "16400  01/09/1992      0       37.2  20.6\n",
              "16401  02/09/1992      0       38.9  22.6\n",
              "16402  03/09/1992      0       39.1  21.8\n",
              "16403  04/09/1992      0       37.8  21.6\n",
              "16404  05/09/1992      0       38.3  21.9\n",
              "16405  06/09/1992      0       38.5  20.8\n",
              "16406  07/09/1992      0       38.6  21.5\n",
              "16407  08/09/1992      0       38.3  20.6\n",
              "16408  09/09/1992      0       40.9  17.8\n",
              "16409  10/09/1992      0       41.7  18.9"
            ]
          },
          "metadata": {
            "tags": []
          },
          "execution_count": 49
        }
      ]
    },
    {
      "cell_type": "markdown",
      "metadata": {
        "id": "eoaFI2T_OFfO"
      },
      "source": [
        "**Combertir valores de las variables**"
      ]
    },
    {
      "cell_type": "code",
      "metadata": {
        "colab": {
          "base_uri": "https://localhost:8080/"
        },
        "id": "deXqxmLcSoKS",
        "outputId": "f61e6dac-54a8-4d4d-dc30-ca8739ee29dd"
      },
      "source": [
        "# Deseamos convertir los valores de las variables ambientales a núm. flotantes \r\n",
        "cols_list = ['Precip', 'Evap', 'Tmax', 'Tmin'] #Lista de columnas (se usará en el for)\r\n",
        "\r\n",
        "#el for es una ciclo donde ejecutaremos nuestra función de conversión de cariables\r\n",
        "for cols in cols_list:\r\n",
        "  #Funcaión de conversión de variables\r\n",
        "  df_work1[cols] = pd.to_numeric(df_work1[cols], errors='coerce') #to_numeric es la función \r\n",
        "  #(base de datos(lista de colunas), como llamar a los errores )\r\n",
        "  #ese cols va a irse recorriendo en cada columna\r\n",
        "\r\n",
        "df_work1.info()"
      ],
      "execution_count": null,
      "outputs": [
        {
          "output_type": "stream",
          "text": [
            "<class 'pandas.core.frame.DataFrame'>\n",
            "RangeIndex: 23774 entries, 0 to 23773\n",
            "Data columns (total 5 columns):\n",
            " #   Column  Non-Null Count  Dtype  \n",
            "---  ------  --------------  -----  \n",
            " 0   Fecha   23774 non-null  object \n",
            " 1   Precip  23736 non-null  float64\n",
            " 2   Evap    20731 non-null  float64\n",
            " 3   Tmax    23740 non-null  float64\n",
            " 4   Tmin    23737 non-null  float64\n",
            "dtypes: float64(4), object(1)\n",
            "memory usage: 928.8+ KB\n"
          ],
          "name": "stdout"
        }
      ]
    },
    {
      "cell_type": "markdown",
      "metadata": {
        "id": "NpychRqgXPj8"
      },
      "source": [
        "**Sumar nulos**"
      ]
    },
    {
      "cell_type": "code",
      "metadata": {
        "colab": {
          "base_uri": "https://localhost:8080/"
        },
        "id": "k21l4rWsTnSy",
        "outputId": "876992e3-8141-4035-e40d-788c58811889"
      },
      "source": [
        "#Sabemos que hay valores que faltan (nosotros los creamos cuando remplazamos los nulos por \"\")\r\n",
        "#Los sumamos\r\n",
        "df_work1.isnull().sum()\r\n",
        "#nomnredelabasededatos.sinvalores().sumar()"
      ],
      "execution_count": null,
      "outputs": [
        {
          "output_type": "execute_result",
          "data": {
            "text/plain": [
              "Fecha        0\n",
              "Precip      38\n",
              "Evap      3043\n",
              "Tmax        34\n",
              "Tmin        37\n",
              "dtype: int64"
            ]
          },
          "metadata": {
            "tags": []
          },
          "execution_count": 51
        }
      ]
    },
    {
      "cell_type": "code",
      "metadata": {
        "colab": {
          "base_uri": "https://localhost:8080/"
        },
        "id": "qY9wnmPoTqEw",
        "outputId": "a2247995-6d24-4e40-f0f5-810e3683a74d"
      },
      "source": [
        "#Obcional del ejecutar\r\n",
        "#Esto solo es para mostrar las variables como flotantes \r\n",
        "print(df_work1.head())\r\n",
        "print(df_work1.head())"
      ],
      "execution_count": null,
      "outputs": [
        {
          "output_type": "stream",
          "text": [
            "        Fecha  Precip  Evap  Tmax  Tmin\n",
            "0  01/02/1944     0.0   1.2  23.7   4.8\n",
            "1  02/02/1944     0.0   1.2  24.6   5.7\n",
            "2  03/02/1944     0.0   2.8  21.8   7.4\n",
            "3  04/02/1944     0.0   2.1  21.4  11.9\n",
            "4  05/02/1944     0.0   2.2  21.2   8.4\n",
            "        Fecha  Precip  Evap  Tmax  Tmin\n",
            "0  01/02/1944     0.0   1.2  23.7   4.8\n",
            "1  02/02/1944     0.0   1.2  24.6   5.7\n",
            "2  03/02/1944     0.0   2.8  21.8   7.4\n",
            "3  04/02/1944     0.0   2.1  21.4  11.9\n",
            "4  05/02/1944     0.0   2.2  21.2   8.4\n"
          ],
          "name": "stdout"
        }
      ]
    },
    {
      "cell_type": "code",
      "metadata": {
        "colab": {
          "base_uri": "https://localhost:8080/",
          "height": 297
        },
        "id": "cC5lPG8kTrAA",
        "outputId": "01b7596a-d596-47c9-dec4-d366fe6c47ff"
      },
      "source": [
        "# Un análisis estadístico breve de las variables numéricas redondeado a 3 cifras significativas\r\n",
        "df_work1.describe().round(3)"
      ],
      "execution_count": null,
      "outputs": [
        {
          "output_type": "execute_result",
          "data": {
            "text/html": [
              "<div>\n",
              "<style scoped>\n",
              "    .dataframe tbody tr th:only-of-type {\n",
              "        vertical-align: middle;\n",
              "    }\n",
              "\n",
              "    .dataframe tbody tr th {\n",
              "        vertical-align: top;\n",
              "    }\n",
              "\n",
              "    .dataframe thead th {\n",
              "        text-align: right;\n",
              "    }\n",
              "</style>\n",
              "<table border=\"1\" class=\"dataframe\">\n",
              "  <thead>\n",
              "    <tr style=\"text-align: right;\">\n",
              "      <th></th>\n",
              "      <th>Precip</th>\n",
              "      <th>Evap</th>\n",
              "      <th>Tmax</th>\n",
              "      <th>Tmin</th>\n",
              "    </tr>\n",
              "  </thead>\n",
              "  <tbody>\n",
              "    <tr>\n",
              "      <th>count</th>\n",
              "      <td>23736.000</td>\n",
              "      <td>20731.000</td>\n",
              "      <td>23740.000</td>\n",
              "      <td>23737.000</td>\n",
              "    </tr>\n",
              "    <tr>\n",
              "      <th>mean</th>\n",
              "      <td>0.194</td>\n",
              "      <td>6.040</td>\n",
              "      <td>31.361</td>\n",
              "      <td>14.885</td>\n",
              "    </tr>\n",
              "    <tr>\n",
              "      <th>std</th>\n",
              "      <td>1.842</td>\n",
              "      <td>3.452</td>\n",
              "      <td>8.820</td>\n",
              "      <td>7.845</td>\n",
              "    </tr>\n",
              "    <tr>\n",
              "      <th>min</th>\n",
              "      <td>0.000</td>\n",
              "      <td>0.000</td>\n",
              "      <td>6.000</td>\n",
              "      <td>-8.000</td>\n",
              "    </tr>\n",
              "    <tr>\n",
              "      <th>25%</th>\n",
              "      <td>0.000</td>\n",
              "      <td>3.000</td>\n",
              "      <td>23.700</td>\n",
              "      <td>8.500</td>\n",
              "    </tr>\n",
              "    <tr>\n",
              "      <th>50%</th>\n",
              "      <td>0.000</td>\n",
              "      <td>5.700</td>\n",
              "      <td>31.400</td>\n",
              "      <td>14.100</td>\n",
              "    </tr>\n",
              "    <tr>\n",
              "      <th>75%</th>\n",
              "      <td>0.000</td>\n",
              "      <td>8.700</td>\n",
              "      <td>39.500</td>\n",
              "      <td>21.500</td>\n",
              "    </tr>\n",
              "    <tr>\n",
              "      <th>max</th>\n",
              "      <td>73.800</td>\n",
              "      <td>17.900</td>\n",
              "      <td>52.000</td>\n",
              "      <td>33.400</td>\n",
              "    </tr>\n",
              "  </tbody>\n",
              "</table>\n",
              "</div>"
            ],
            "text/plain": [
              "          Precip       Evap       Tmax       Tmin\n",
              "count  23736.000  20731.000  23740.000  23737.000\n",
              "mean       0.194      6.040     31.361     14.885\n",
              "std        1.842      3.452      8.820      7.845\n",
              "min        0.000      0.000      6.000     -8.000\n",
              "25%        0.000      3.000     23.700      8.500\n",
              "50%        0.000      5.700     31.400     14.100\n",
              "75%        0.000      8.700     39.500     21.500\n",
              "max       73.800     17.900     52.000     33.400"
            ]
          },
          "metadata": {
            "tags": []
          },
          "execution_count": 54
        }
      ]
    },
    {
      "cell_type": "markdown",
      "metadata": {
        "id": "x77pgRO5YwC3"
      },
      "source": [
        "**Analisis**\r\n",
        "\r\n",
        "\r\n",
        "1.   Tuvo una presipitación maxima de 73.800 milimetros mientras que si se sumara toda la presipitación registrada habeían 23.7 metros de agua.\r\n",
        "\r\n",
        "2.   La temperatura minima fue 31 grados centigrados mientras que la minima fue de 14 C lo que se me hace muy raro porque buscando en internet he visto que ha llegado a los 5 grados.\r\n",
        "\r\n",
        "\r\n",
        "\r\n",
        "\r\n",
        "\r\n",
        "\r\n",
        "\r\n",
        "\r\n"
      ]
    },
    {
      "cell_type": "markdown",
      "metadata": {
        "id": "pcF1Atj3Txqr"
      },
      "source": [
        "**Trabajaremos la variable Fecha.**\r\n",
        "\r\n",
        "Una variable tipo fecha, contiene mucha información condensada (Año, Mes, Día, Hora, Minuto, Segundo y fracciones de Segundo). Buscamos acceder a toda esa información para utilizarla.\r\n",
        "\r\n",
        "Python tiene algunas herramientas para trabajar las fechas. Veamos algunas de ellas."
      ]
    },
    {
      "cell_type": "markdown",
      "metadata": {
        "id": "CwrWUQgOe5kc"
      },
      "source": [
        "**Tercer respaldo**"
      ]
    },
    {
      "cell_type": "code",
      "metadata": {
        "colab": {
          "base_uri": "https://localhost:8080/"
        },
        "id": "TqGrtDV2T0Jv",
        "outputId": "5f40d404-0e3e-4bd8-f822-72b7ab8fad4a"
      },
      "source": [
        "# Creamos una tercer data frame, el \"df_work2\".\r\n",
        "df_work2 = df_work1.copy()\r\n",
        "#Leer los primeros renglones de la columna fecha\r\n",
        "df_work2['Fecha'].head()"
      ],
      "execution_count": null,
      "outputs": [
        {
          "output_type": "execute_result",
          "data": {
            "text/plain": [
              "0    01/02/1944\n",
              "1    02/02/1944\n",
              "2    03/02/1944\n",
              "3    04/02/1944\n",
              "4    05/02/1944\n",
              "Name: Fecha, dtype: object"
            ]
          },
          "metadata": {
            "tags": []
          },
          "execution_count": 56
        }
      ]
    },
    {
      "cell_type": "markdown",
      "metadata": {
        "id": "JN-80VXhfAN_"
      },
      "source": [
        "**Combertir la fecha a un formato que entieda python**"
      ]
    },
    {
      "cell_type": "code",
      "metadata": {
        "colab": {
          "base_uri": "https://localhost:8080/"
        },
        "id": "49Ww1vvnT4Ym",
        "outputId": "91135a02-1b91-4cd5-d3ba-3db829029100"
      },
      "source": [
        "# Pandas tiene la función pd.to_datetime que convierte una cadena en tipo datetime64[ns]\r\n",
        "# Intentamos a ver si Python reconoce el formato en nuestro caso. \r\n",
        "# Agregamos la opción de que el primer dato es el día (dayfirst=True)\r\n",
        "df_work2['Fecha']=pd.to_datetime(df_work2['Fecha'], dayfirst=True).copy()\r\n",
        "print(df_work1.head())"
      ],
      "execution_count": null,
      "outputs": [
        {
          "output_type": "stream",
          "text": [
            "        Fecha  Precip  Evap  Tmax  Tmin\n",
            "0  01/02/1944     0.0   1.2  23.7   4.8\n",
            "1  02/02/1944     0.0   1.2  24.6   5.7\n",
            "2  03/02/1944     0.0   2.8  21.8   7.4\n",
            "3  04/02/1944     0.0   2.1  21.4  11.9\n",
            "4  05/02/1944     0.0   2.2  21.2   8.4\n"
          ],
          "name": "stdout"
        }
      ]
    },
    {
      "cell_type": "code",
      "metadata": {
        "colab": {
          "base_uri": "https://localhost:8080/"
        },
        "id": "9VjxNI5qT7qB",
        "outputId": "fef2842f-9f2a-449e-c199-547f0076eecd"
      },
      "source": [
        "#(Opcional para el funcionamiento)\r\n",
        "# Verificamos que cada variable (columna), sea del tipo que esperamos.\r\n",
        "# Observamos que la variable Fecha es de tipo 'datetime64[ns]'  \r\n",
        "df_work2.dtypes"
      ],
      "execution_count": null,
      "outputs": [
        {
          "output_type": "execute_result",
          "data": {
            "text/plain": [
              "Fecha     datetime64[ns]\n",
              "Precip           float64\n",
              "Evap             float64\n",
              "Tmax             float64\n",
              "Tmin             float64\n",
              "dtype: object"
            ]
          },
          "metadata": {
            "tags": []
          },
          "execution_count": 58
        }
      ]
    },
    {
      "cell_type": "markdown",
      "metadata": {
        "id": "FhtA_Ki0gIg3"
      },
      "source": [
        "Agregar columnas"
      ]
    },
    {
      "cell_type": "code",
      "metadata": {
        "id": "FfJd2zEJT_ZU"
      },
      "source": [
        "# Buscamos ahora añadir dos columnas adicionales: df['Año'], df['Mes']\r\n",
        "# Usaremos la función .dt.year y .dt.month para extraer el Año y Mes de la Fecha\r\n",
        "df_work2['Año'] = df_work2['Fecha'].dt.year  #agregar columna año\r\n",
        "df_work2['Mes'] = df_work2['Fecha'].dt.month #agregar columna mes"
      ],
      "execution_count": null,
      "outputs": []
    },
    {
      "cell_type": "markdown",
      "metadata": {
        "id": "B3UQuIMCgU69"
      },
      "source": [
        "# **Ya tenemos todo hecho ahora solo probamos**"
      ]
    },
    {
      "cell_type": "code",
      "metadata": {
        "colab": {
          "base_uri": "https://localhost:8080/"
        },
        "id": "Lx_FxRKZUD03",
        "outputId": "f5bc55b8-d286-4e76-be18-2f351f7b1967"
      },
      "source": [
        "# Verificamos que se hayan creado de forma correcta\r\n",
        "# Tendremos ahora dos columnas adicionales que podemos utilizar para filtrar información.\r\n",
        "#Tenemos mes, año, etc.\r\n",
        "print(df_work2.head())\r\n",
        "print(df_work2.tail())\r\n"
      ],
      "execution_count": null,
      "outputs": [
        {
          "output_type": "stream",
          "text": [
            "       Fecha  Precip  Evap  Tmax  Tmin   Año  Mes\n",
            "0 1944-02-01     0.0   1.2  23.7   4.8  1944    2\n",
            "1 1944-02-02     0.0   1.2  24.6   5.7  1944    2\n",
            "2 1944-02-03     0.0   2.8  21.8   7.4  1944    2\n",
            "3 1944-02-04     0.0   2.1  21.4  11.9  1944    2\n",
            "4 1944-02-05     0.0   2.2  21.2   8.4  1944    2\n",
            "           Fecha  Precip  Evap  Tmax  Tmin   Año  Mes\n",
            "23769 2012-12-27     0.0   3.3  17.6   8.0  2012   12\n",
            "23770 2012-12-28     0.0   2.6  17.8   5.0  2012   12\n",
            "23771 2012-12-29     0.0   2.1  18.0   3.5  2012   12\n",
            "23772 2012-12-30     0.5   1.6  16.4   3.5  2012   12\n",
            "23773 2012-12-31     0.0   2.0  16.4   4.0  2012   12\n"
          ],
          "name": "stdout"
        }
      ]
    },
    {
      "cell_type": "markdown",
      "metadata": {
        "id": "jnR0UxlPgfXO"
      },
      "source": [
        "Verificar tipo de variables"
      ]
    },
    {
      "cell_type": "code",
      "metadata": {
        "colab": {
          "base_uri": "https://localhost:8080/"
        },
        "id": "kk9aphLXUG_B",
        "outputId": "79626d55-110d-4667-829b-5a8a5d09d59e"
      },
      "source": [
        "# Verificamos que Año y Mes son variables enteras.\r\n",
        "# Hasta aquí llegaremos esta semana. \r\n",
        "df_work2.info()"
      ],
      "execution_count": null,
      "outputs": [
        {
          "output_type": "stream",
          "text": [
            "<class 'pandas.core.frame.DataFrame'>\n",
            "RangeIndex: 23774 entries, 0 to 23773\n",
            "Data columns (total 7 columns):\n",
            " #   Column  Non-Null Count  Dtype         \n",
            "---  ------  --------------  -----         \n",
            " 0   Fecha   23774 non-null  datetime64[ns]\n",
            " 1   Precip  23736 non-null  float64       \n",
            " 2   Evap    20731 non-null  float64       \n",
            " 3   Tmax    23740 non-null  float64       \n",
            " 4   Tmin    23737 non-null  float64       \n",
            " 5   Año     23774 non-null  int64         \n",
            " 6   Mes     23774 non-null  int64         \n",
            "dtypes: datetime64[ns](1), float64(4), int64(2)\n",
            "memory usage: 1.3 MB\n"
          ],
          "name": "stdout"
        }
      ]
    }
  ]
}