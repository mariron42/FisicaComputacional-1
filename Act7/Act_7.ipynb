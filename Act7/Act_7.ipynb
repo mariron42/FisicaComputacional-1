{
  "nbformat": 4,
  "nbformat_minor": 0,
  "metadata": {
    "colab": {
      "name": "Act 7.ipynb",
      "provenance": [],
      "authorship_tag": "ABX9TyPX+6u8+465n4GS3FJGjUAn",
      "include_colab_link": true
    },
    "kernelspec": {
      "name": "python3",
      "display_name": "Python 3"
    }
  },
  "cells": [
    {
      "cell_type": "markdown",
      "metadata": {
        "id": "view-in-github",
        "colab_type": "text"
      },
      "source": [
        "<a href=\"https://colab.research.google.com/github/mariron42/FisicaComputacional-1/blob/main/Act7/Act_7.ipynb\" target=\"_parent\"><img src=\"https://colab.research.google.com/assets/colab-badge.svg\" alt=\"Open In Colab\"/></a>"
      ]
    },
    {
      "cell_type": "code",
      "metadata": {
        "id": "9AOXBBUSumo9"
      },
      "source": [
        "# 4 de marzo de 2021\r\n",
        "# Cargamos las bibliotecas para trabajar en Algebra Lineal\r\n",
        "\r\n",
        "import numpy as np\r\n",
        "import scipy.linalg as la\r\n",
        "from numpy.linalg import matrix_power as mpow\r\n",
        "\r\n",
        "import matplotlib.pyplot as plt\r\n",
        "%matplotlib inline\r\n",
        "\r\n",
        "import seaborn as sns\r\n",
        "\r\n",
        "\r\n",
        "# Bibliotecas para el análisis de Series de Tiempo y Modelos de Pronóstico\r\n",
        "\r\n",
        "import statsmodels.api as sm\r\n",
        "\r\n",
        "from statsmodels.tsa.stattools import adfuller\r\n",
        "\r\n",
        "from statsmodels.tsa.arima_model import ARIMA\r\n",
        "\r\n",
        "from statsmodels.tsa.arima_model import ARIMAResults\r\n",
        "\r\n",
        "\r\n",
        "\r\n",
        "from statsmodels.tsa.stattools import acf, pacf# Suprimir mensajes de alertas de cambios futuros\r\n",
        "import warnings\r\n",
        "warnings.simplefilter(action='ignore', category=FutureWarning)\r\n",
        "\r\n",
        "# Matplotlib mostrará los resultados en la Notebook de Jupyter\r\n",
        "%matplotlib inline\r\n"
      ],
      "execution_count": 126,
      "outputs": []
    },
    {
      "cell_type": "markdown",
      "metadata": {
        "id": "QP2oSlJZt7_d"
      },
      "source": [
        "**Ejercicio 1.** Defina las siguientes matrices.\r\n",
        "\r\n",
        "\\begin{equation*}\r\n",
        " A =\r\n",
        "  \\begin{bmatrix}\r\n",
        "   1 & 3 \\\\\r\n",
        "   -1 & 7\r\n",
        "   \\end{bmatrix}\r\n",
        "\\end{equation*}\r\n",
        "\r\n",
        "\\begin{equation*}\r\n",
        " B =\r\n",
        "  \\begin{bmatrix}\r\n",
        "   5 & 2 \\\\\r\n",
        "   1 & 2\r\n",
        "   \\end{bmatrix}\r\n",
        "\\end{equation*}\r\n",
        "\r\n",
        " y la matrix identidad \r\n",
        "\r\n",
        " \\begin{equation*}\r\n",
        " I = \r\n",
        "   \\begin{bmatrix}\r\n",
        "   1 & 0 \\\\\r\n",
        "   0 & 1\r\n",
        "   \\end{bmatrix}\r\n",
        "\\end{equation*}\r\n",
        "\r\n",
        "Calcule el resultado de $2*I+3*A+A@B$.\r\n",
        "\r\n",
        "Para definir la matriz identidad, se puede utilizar la función *np.eye(2, dtype=int)*. Ver manual de  [np.eye()](https://numpy.org/doc/stable/reference/generated/numpy.eye.html)."
      ]
    },
    {
      "cell_type": "code",
      "metadata": {
        "id": "qRGpB4WOtgbB",
        "colab": {
          "base_uri": "https://localhost:8080/"
        },
        "outputId": "1408fc0e-3006-4642-d78e-f02440300532"
      },
      "source": [
        "#difinir matrices \r\n",
        "A=np.array([[1,3],[-1,7]])\r\n",
        "B=np.array([[5,2],[1,2]])\r\n",
        "I=np.array([[1,0],[0,1]])\r\n",
        "#calcular el resultado \r\n",
        "resultado=(2*I)+(3*A)+(A@B)\r\n",
        "#imprimir el resultado\r\n",
        "print(resultado)"
      ],
      "execution_count": 3,
      "outputs": [
        {
          "output_type": "stream",
          "text": [
            "[[13 17]\n",
            " [-1 35]]\n"
          ],
          "name": "stdout"
        }
      ]
    },
    {
      "cell_type": "markdown",
      "metadata": {
        "id": "nYCe6FrmuEB1"
      },
      "source": [
        "**Ejercicio 2**. Los polinomios característicos y el Teorema de Cayley-Hamilton.\r\n",
        "\r\n",
        "El polinomio característico de una matriz M esta dado en general por la ecuación \r\n",
        "\\begin{equation}\r\n",
        "\\det(M - \\lambda I) = 0\r\n",
        "\\end{equation}\r\n",
        "Para una matriz cuadrada M (2x2), el polinomio característico se puede escribir como\r\n",
        "\\begin{equation}\r\n",
        "P_2 (\\lambda) = \\det{(M)} - \\mathrm{tr}(M) \\, \\lambda + \\lambda^2   \r\n",
        "\\end{equation}\r\n",
        "y para una matriz cuadrada M (3x3), el polinomio característico resulta ser\r\n",
        "\r\n",
        "\\begin{equation}\r\n",
        "P_3 (\\lambda) = \\frac{1}{6} \r\n",
        "[ \\mathrm{tr}^3 (M) + 2 \\, \\mathrm{tr }(M^3) - 3 \\, \\mathrm{tr}(M) \\mathrm{tr}(M^2) ] - \r\n",
        "\\frac{1}{2} [ \\mathrm{tr}^2 (M) - \\mathrm{tr}(M^2) ] \\lambda + \\mathrm{tr}(M) \\lambda^2 - \\lambda^3\r\n",
        "\\end{equation}\r\n",
        "\r\n",
        "[El Teorema de Cayley-Hamilton](https://en.wikipedia.org/wiki/Cayley–Hamilton_theorem) nos dice que una matriz cuadrada M (2x2), satisface el polinomio característico\r\n",
        "\\begin{equation}\r\n",
        "P_2(M) = \\det(M) - \\mathrm{tr}(M) M + M^2 \r\n",
        "\\end{equation}\r\n",
        "y en general cualquier matriz cuadrada M (nxn), satisface $P_n(M)$. \r\n",
        "\r\n",
        "Demuestre esto para cualquier matriz M (2x2),  ($\\det(M) \\neq 0$)."
      ]
    },
    {
      "cell_type": "code",
      "metadata": {
        "id": "PeRxBxu5uKmb",
        "colab": {
          "base_uri": "https://localhost:8080/"
        },
        "outputId": "aa52df9f-172d-4366-ab54-a077b2780e99"
      },
      "source": [
        "# Definir una Matriz con determinante diferente a 0\r\n",
        "k = np.array([[8,1],[3,7]])\r\n",
        "\r\n",
        "print(k)\r\n",
        "print(\"Su determinante es \",la.det(k))\r\n"
      ],
      "execution_count": 4,
      "outputs": [
        {
          "output_type": "stream",
          "text": [
            "[[8 1]\n",
            " [3 7]]\n",
            "Su determinante es  53.0\n"
          ],
          "name": "stdout"
        }
      ]
    },
    {
      "cell_type": "code",
      "metadata": {
        "colab": {
          "base_uri": "https://localhost:8080/"
        },
        "id": "gL_kUZGQrmiD",
        "outputId": "ed2d9fab-252b-420c-964c-e84e1cc0a114"
      },
      "source": [
        "# Calcular el polinomio característico para M(2x2)\r\n",
        "\r\n",
        "print(\"det=\", la.det(k))\r\n",
        "\r\n",
        "print(\"tr=\",np.trace(k))\r\n",
        "\r\n",
        "\r\n",
        "print(\"P_2(M)=\")\r\n",
        "print(la.det(k)*np.eye(2, dtype=int)-np.trace(k)*k+k@k)"
      ],
      "execution_count": 5,
      "outputs": [
        {
          "output_type": "stream",
          "text": [
            "det= 53.0\n",
            "tr= 15\n",
            "P_2(M)=\n",
            "[[0. 0.]\n",
            " [0. 0.]]\n"
          ],
          "name": "stdout"
        }
      ]
    },
    {
      "cell_type": "markdown",
      "metadata": {
        "id": "vlB-kI5LuLHs"
      },
      "source": [
        "**Ejercicio 3:**\r\n",
        "\r\n",
        "Resuelva el sistema de ecuaciones.\r\n",
        "\r\n",
        "\\begin{eqnarray*}\r\n",
        "x - 3 y + z & = & 1 \\\\ \\nonumber\r\n",
        "3 x - 4y + z & = & 5 \\\\ \\nonumber\r\n",
        "2 y - z & = & 0 \\\\ \\nonumber\r\n",
        "\\end{eqnarray*}\r\n",
        "\r\n",
        "de dos formas, utilizando el Método de Eliminación Gaussiana y la utilzando la función scipy.linalg.solve()"
      ]
    },
    {
      "cell_type": "code",
      "metadata": {
        "id": "QnWVNRhLuSuq"
      },
      "source": [
        "# Implementación del método de eliminación Gaussiana\r\n",
        "# Definimos 3 funciones \r\n",
        "\r\n",
        "# Intercambio de posición de renglones.\r\n",
        "def switch_rows(A,i,j):\r\n",
        "    \"Intercambiar renglones i y j en la matriz A.\"\r\n",
        "    n = A.shape[0]\r\n",
        "    E = np.eye(n)\r\n",
        "    E[i,i] = 0\r\n",
        "    E[j,j] = 0\r\n",
        "    E[i,j] = 1\r\n",
        "    E[j,i] = 1\r\n",
        "    return E @ A\r\n",
        "\r\n",
        "# Multiplicar un renglón por una constante no nula.\r\n",
        "def scale_row(A,k,i):\r\n",
        "    \"Multiplicar el renglón i por k en la matriz A.\"\r\n",
        "    n = A.shape[0]\r\n",
        "    E = np.eye(n)\r\n",
        "    E[i,i] = k\r\n",
        "    return E @ A\r\n",
        "\r\n",
        "# Sumar un múltiplo de un reglon a otro renglón.\r\n",
        "def add_row(A,k,i,j):\r\n",
        "    \"Sumar k veces el renglón j al renglón i en la matriz A.\"\r\n",
        "    n = A.shape[0]\r\n",
        "    E = np.eye(n)\r\n",
        "    if i == j:\r\n",
        "        E[i,i] = k + 1\r\n",
        "    else:\r\n",
        "        E[i,j] = k\r\n",
        "    return E @ A"
      ],
      "execution_count": 6,
      "outputs": []
    },
    {
      "cell_type": "markdown",
      "metadata": {
        "id": "-qF2N9ufPhLI"
      },
      "source": [
        "Procedimiento largo\r\n"
      ]
    },
    {
      "cell_type": "code",
      "metadata": {
        "colab": {
          "base_uri": "https://localhost:8080/"
        },
        "id": "0WGVvSL0PiEA",
        "outputId": "4e1611cb-ac6d-4ac4-d642-9b201add7479"
      },
      "source": [
        "#Meter columnas a la izquierda del igual\r\n",
        "M = np.array([[1,-3,1],[3,-4,1],[0,2,-1]])\r\n",
        "print(M)\r\n",
        "print('det(M) = ', la.det(M))"
      ],
      "execution_count": 7,
      "outputs": [
        {
          "output_type": "stream",
          "text": [
            "[[ 1 -3  1]\n",
            " [ 3 -4  1]\n",
            " [ 0  2 -1]]\n",
            "det(M) =  -1.0000000000000004\n"
          ],
          "name": "stdout"
        }
      ]
    },
    {
      "cell_type": "code",
      "metadata": {
        "colab": {
          "base_uri": "https://localhost:8080/"
        },
        "id": "mxfmzXqmPnOR",
        "outputId": "a9c59cc2-0f15-4c30-9580-d444faae5f48"
      },
      "source": [
        "# Matriz aumentada: Unimos la matriz M con la matriz Identidad \r\n",
        "A = np.hstack([M,np.eye(3)])\r\n",
        "print(A)"
      ],
      "execution_count": 8,
      "outputs": [
        {
          "output_type": "stream",
          "text": [
            "[[ 1. -3.  1.  1.  0.  0.]\n",
            " [ 3. -4.  1.  0.  1.  0.]\n",
            " [ 0.  2. -1.  0.  0.  1.]]\n"
          ],
          "name": "stdout"
        }
      ]
    },
    {
      "cell_type": "code",
      "metadata": {
        "colab": {
          "base_uri": "https://localhost:8080/"
        },
        "id": "VoYDxKcmPo-F",
        "outputId": "c257f11a-8a2f-4028-e2e4-c9763f06c6fb"
      },
      "source": [
        "# \"Sumar k veces el renglón j al renglón i en la matriz A.\"\r\n",
        "# Resta 3 veces renglón 1 al 2\r\n",
        "A1 = add_row(A,-3,1,0)\r\n",
        "\r\n",
        "print(A1)"
      ],
      "execution_count": 9,
      "outputs": [
        {
          "output_type": "stream",
          "text": [
            "[[ 1. -3.  1.  1.  0.  0.]\n",
            " [ 0.  5. -2. -3.  1.  0.]\n",
            " [ 0.  2. -1.  0.  0.  1.]]\n"
          ],
          "name": "stdout"
        }
      ]
    },
    {
      "cell_type": "code",
      "metadata": {
        "colab": {
          "base_uri": "https://localhost:8080/"
        },
        "id": "DRROg00EPrOY",
        "outputId": "08f4d6fc-4aa9-47f2-dc9c-b926b3c52d87"
      },
      "source": [
        "#Resta -2/5 veces renglón 2 al 3\r\n",
        "A2 = add_row(A1, -(2/5),2,1)\r\n",
        "print(A2)"
      ],
      "execution_count": 10,
      "outputs": [
        {
          "output_type": "stream",
          "text": [
            "[[ 1.  -3.   1.   1.   0.   0. ]\n",
            " [ 0.   5.  -2.  -3.   1.   0. ]\n",
            " [ 0.   0.  -0.2  1.2 -0.4  1. ]]\n"
          ],
          "name": "stdout"
        }
      ]
    },
    {
      "cell_type": "code",
      "metadata": {
        "colab": {
          "base_uri": "https://localhost:8080/"
        },
        "id": "oHkh-_6kPth9",
        "outputId": "b9156cc7-ddd8-44b5-f3c9-dccaba74f6ea"
      },
      "source": [
        "#sumar 3/5 veces el renglón 2 al 1\r\n",
        "A3 = add_row(A2, (3/5),0,1)\r\n",
        "print(A3)"
      ],
      "execution_count": 11,
      "outputs": [
        {
          "output_type": "stream",
          "text": [
            "[[ 1.00000000e+00 -1.11022302e-16 -2.00000000e-01 -8.00000000e-01\n",
            "   6.00000000e-01  0.00000000e+00]\n",
            " [ 0.00000000e+00  5.00000000e+00 -2.00000000e+00 -3.00000000e+00\n",
            "   1.00000000e+00  0.00000000e+00]\n",
            " [ 0.00000000e+00  0.00000000e+00 -2.00000000e-01  1.20000000e+00\n",
            "  -4.00000000e-01  1.00000000e+00]]\n"
          ],
          "name": "stdout"
        }
      ]
    },
    {
      "cell_type": "code",
      "metadata": {
        "colab": {
          "base_uri": "https://localhost:8080/"
        },
        "id": "05omGs1JPygB",
        "outputId": "2c9c8bf9-69a5-4280-8b7c-08d75d3b300f"
      },
      "source": [
        "#Dividir el renglón 2 entre 5\r\n",
        "A4 = scale_row(A3, (1/5),1)\r\n",
        "print(A4)"
      ],
      "execution_count": 12,
      "outputs": [
        {
          "output_type": "stream",
          "text": [
            "[[ 1.00000000e+00 -1.11022302e-16 -2.00000000e-01 -8.00000000e-01\n",
            "   6.00000000e-01  0.00000000e+00]\n",
            " [ 0.00000000e+00  1.00000000e+00 -4.00000000e-01 -6.00000000e-01\n",
            "   2.00000000e-01  0.00000000e+00]\n",
            " [ 0.00000000e+00  0.00000000e+00 -2.00000000e-01  1.20000000e+00\n",
            "  -4.00000000e-01  1.00000000e+00]]\n"
          ],
          "name": "stdout"
        }
      ]
    },
    {
      "cell_type": "code",
      "metadata": {
        "colab": {
          "base_uri": "https://localhost:8080/"
        },
        "id": "s-fvnNg1P1bT",
        "outputId": "be51df80-64e8-43b4-cf2d-1380dff8a092"
      },
      "source": [
        "#RESTAR -2 veces el renglón 3 al 2\r\n",
        "A5 = add_row(A4, -2,1,2)\r\n",
        "print(A5)"
      ],
      "execution_count": 13,
      "outputs": [
        {
          "output_type": "stream",
          "text": [
            "[[ 1.00000000e+00 -1.11022302e-16 -2.00000000e-01 -8.00000000e-01\n",
            "   6.00000000e-01  0.00000000e+00]\n",
            " [ 0.00000000e+00  1.00000000e+00 -1.11022302e-16 -3.00000000e+00\n",
            "   1.00000000e+00 -2.00000000e+00]\n",
            " [ 0.00000000e+00  0.00000000e+00 -2.00000000e-01  1.20000000e+00\n",
            "  -4.00000000e-01  1.00000000e+00]]\n"
          ],
          "name": "stdout"
        }
      ]
    },
    {
      "cell_type": "code",
      "metadata": {
        "colab": {
          "base_uri": "https://localhost:8080/"
        },
        "id": "Ko7BqzMoB19m",
        "outputId": "1a48c185-bd35-4a8a-e9d7-05cdc38a3dca"
      },
      "source": [
        "#Restar 1 veces el renglón 3 al 1\r\n",
        "A6 = add_row(A5, -1,0,2)\r\n",
        "print(A6)"
      ],
      "execution_count": 14,
      "outputs": [
        {
          "output_type": "stream",
          "text": [
            "[[ 1.00000000e+00 -1.11022302e-16  0.00000000e+00 -2.00000000e+00\n",
            "   1.00000000e+00 -1.00000000e+00]\n",
            " [ 0.00000000e+00  1.00000000e+00 -1.11022302e-16 -3.00000000e+00\n",
            "   1.00000000e+00 -2.00000000e+00]\n",
            " [ 0.00000000e+00  0.00000000e+00 -2.00000000e-01  1.20000000e+00\n",
            "  -4.00000000e-01  1.00000000e+00]]\n"
          ],
          "name": "stdout"
        }
      ]
    },
    {
      "cell_type": "code",
      "metadata": {
        "colab": {
          "base_uri": "https://localhost:8080/"
        },
        "id": "FG-hRRVSCak2",
        "outputId": "d7e272bb-04c5-4a4f-90ad-65a362f8305f"
      },
      "source": [
        "#Multiplicar el renglón 3 por -5\r\n",
        "A7 = scale_row(A6, -5,2)\r\n",
        "print(A7)"
      ],
      "execution_count": 15,
      "outputs": [
        {
          "output_type": "stream",
          "text": [
            "[[ 1.00000000e+00 -1.11022302e-16  0.00000000e+00 -2.00000000e+00\n",
            "   1.00000000e+00 -1.00000000e+00]\n",
            " [ 0.00000000e+00  1.00000000e+00 -1.11022302e-16 -3.00000000e+00\n",
            "   1.00000000e+00 -2.00000000e+00]\n",
            " [ 0.00000000e+00  0.00000000e+00  1.00000000e+00 -6.00000000e+00\n",
            "   2.00000000e+00 -5.00000000e+00]]\n"
          ],
          "name": "stdout"
        }
      ]
    },
    {
      "cell_type": "code",
      "metadata": {
        "colab": {
          "base_uri": "https://localhost:8080/"
        },
        "id": "xrAN1DiBISjt",
        "outputId": "93cf2420-47ee-4f17-ded9-5bb26bbeddd6"
      },
      "source": [
        "#Redondear la matris \r\n",
        "A8 = np.round(A7,2)\r\n",
        "print(A8)"
      ],
      "execution_count": 16,
      "outputs": [
        {
          "output_type": "stream",
          "text": [
            "[[ 1. -0.  0. -2.  1. -1.]\n",
            " [ 0.  1. -0. -3.  1. -2.]\n",
            " [ 0.  0.  1. -6.  2. -5.]]\n"
          ],
          "name": "stdout"
        }
      ]
    },
    {
      "cell_type": "code",
      "metadata": {
        "colab": {
          "base_uri": "https://localhost:8080/"
        },
        "id": "cYsdI6iFP3rp",
        "outputId": "b324ec33-a2aa-4b8e-8c5e-28b3410fa7e2"
      },
      "source": [
        "# Hemos obtenido la inversa\r\n",
        "M_inv = A8[:,3:]\r\n",
        "print(M_inv)"
      ],
      "execution_count": 17,
      "outputs": [
        {
          "output_type": "stream",
          "text": [
            "[[-2.  1. -1.]\n",
            " [-3.  1. -2.]\n",
            " [-6.  2. -5.]]\n"
          ],
          "name": "stdout"
        }
      ]
    },
    {
      "cell_type": "code",
      "metadata": {
        "colab": {
          "base_uri": "https://localhost:8080/"
        },
        "id": "6yrtqKnWP6Hr",
        "outputId": "aa5fd6f7-2c21-450c-9d2b-ac360650f494"
      },
      "source": [
        "# El producto de M_inv @ M = I \r\n",
        "result = M_inv @ M\r\n",
        "print(result)\r\n"
      ],
      "execution_count": 18,
      "outputs": [
        {
          "output_type": "stream",
          "text": [
            "[[1. 0. 0.]\n",
            " [0. 1. 0.]\n",
            " [0. 0. 1.]]\n"
          ],
          "name": "stdout"
        }
      ]
    },
    {
      "cell_type": "code",
      "metadata": {
        "colab": {
          "base_uri": "https://localhost:8080/"
        },
        "id": "Jy3_17XpP8SH",
        "outputId": "2f5a8a66-d68c-4a2c-9ac3-0cfbdc077a22"
      },
      "source": [
        "# Checamos la inversa de M con la función 'la.inv(M)'\r\n",
        "la.inv(M)"
      ],
      "execution_count": 19,
      "outputs": [
        {
          "output_type": "execute_result",
          "data": {
            "text/plain": [
              "array([[-2.,  1., -1.],\n",
              "       [-3.,  1., -2.],\n",
              "       [-6.,  2., -5.]])"
            ]
          },
          "metadata": {
            "tags": []
          },
          "execution_count": 19
        }
      ]
    },
    {
      "cell_type": "code",
      "metadata": {
        "colab": {
          "base_uri": "https://localhost:8080/"
        },
        "id": "1pligoUyS-BC",
        "outputId": "4f59acdb-8deb-47ef-912e-5800e6a63c29"
      },
      "source": [
        "#meter columna a la derecha del igual\r\n",
        "# definimos b. Recordemos que tenemos que usar la función .reshape()\r\n",
        "b = np.array([1,-5,0]).reshape(3,1)\r\n",
        "print(b)"
      ],
      "execution_count": 20,
      "outputs": [
        {
          "output_type": "stream",
          "text": [
            "[[ 1]\n",
            " [-5]\n",
            " [ 0]]\n"
          ],
          "name": "stdout"
        }
      ]
    },
    {
      "cell_type": "code",
      "metadata": {
        "colab": {
          "base_uri": "https://localhost:8080/"
        },
        "id": "qJRf6m_SS5Sd",
        "outputId": "de9ff7ce-608d-434f-dc46-74bfad2647bd"
      },
      "source": [
        "# La solución es:\r\n",
        "x = M_inv @ b \r\n",
        "print(x)"
      ],
      "execution_count": 21,
      "outputs": [
        {
          "output_type": "stream",
          "text": [
            "[[ -7.]\n",
            " [ -8.]\n",
            " [-16.]]\n"
          ],
          "name": "stdout"
        }
      ]
    },
    {
      "cell_type": "markdown",
      "metadata": {
        "id": "o8FyycYZ6U34"
      },
      "source": [
        "Metodo corto \r\n"
      ]
    },
    {
      "cell_type": "code",
      "metadata": {
        "colab": {
          "base_uri": "https://localhost:8080/"
        },
        "id": "BBbYzn0I6Y-5",
        "outputId": "be77d850-5bc1-48d2-dfdb-75f4bc6d582f"
      },
      "source": [
        "slc= la.solve(M, b)\r\n",
        "print(slc)\r\n"
      ],
      "execution_count": 22,
      "outputs": [
        {
          "output_type": "stream",
          "text": [
            "[[ -7.]\n",
            " [ -8.]\n",
            " [-16.]]\n"
          ],
          "name": "stdout"
        }
      ]
    },
    {
      "cell_type": "markdown",
      "metadata": {
        "id": "NjcrYkT5uU7f"
      },
      "source": [
        "**Ejercicio 4:** \r\n",
        "\r\n",
        "Dadas las siguientes matrices $B_1, B_2$ y $B_3$\r\n",
        "\r\n",
        "(Ejemplos del artículo de Wikipedia sobre [Eigenvalores y Eigenvectores](https://en.wikipedia.org/wiki/Eigenvalues_and_eigenvectors#Matrix_examples)) \r\n",
        "\r\n",
        "\r\n",
        "\\begin{equation*}\r\n",
        "B_1 = \\begin{bmatrix}\r\n",
        "2 & 0 & 0 \\\\\r\n",
        "0 & 3 & 4 \\\\\r\n",
        "0 & 4 & 9 \\\\\r\n",
        "\\end{bmatrix}\r\n",
        "\\end{equation*}\r\n",
        "\r\n",
        "\\begin{equation*}\r\n",
        "B_2 = \\begin{bmatrix}\r\n",
        "0 & 1 & 0 \\\\\r\n",
        "0 & 0 & 1 \\\\\r\n",
        "1 & 0 & 0 \\\\\r\n",
        "\\end{bmatrix}\r\n",
        "\\end{equation*}\r\n",
        "\r\n",
        "\\begin{equation*}\r\n",
        "B_3 = \\begin{bmatrix}\r\n",
        "2 & 0 & 0 & 0\\\\\r\n",
        "1 & 2 & 0 & 0 \\\\\r\n",
        "0 & 1 & 3 & 0 \\\\\r\n",
        "0 & 0 & 1 & 3 \\\\\r\n",
        "\\end{bmatrix}\r\n",
        "\\end{equation*}\r\n",
        "\r\n",
        "Encuentra los eigenvalores y eigenvectores de cada matriz utilizando la función de *scipy.linalg.eig()*, y contrasta tus resultados en cada caso con los que se desarrollan en los ejemplos de la Wikipedia. "
      ]
    },
    {
      "cell_type": "code",
      "metadata": {
        "id": "I8vXGDbkuWIJ",
        "colab": {
          "base_uri": "https://localhost:8080/"
        },
        "outputId": "50dbf80b-ee48-4621-a66c-07f4904b97fe"
      },
      "source": [
        "#Declarar matrises \r\n",
        "B1 = np.array([[2,0,0],[0,3,4],[0,4,9]])\r\n",
        "B2 = np.array([[0,1,0],[0,0,1],[1,0,0]])\r\n",
        "B3 = np.array([[2,0,0,0],[1,2,0,0],[0,1,3,0],[0,0,1,3]])\r\n",
        "#Ver si están bien \r\n",
        "print(B1)\r\n",
        "print(\" \")\r\n",
        "print(B2)\r\n",
        "print(\" \")\r\n",
        "print(B3)\r\n",
        "print(\" \")\r\n",
        "\r\n",
        "print(B1)\r\n",
        "print(\" \")\r\n",
        "\r\n"
      ],
      "execution_count": 23,
      "outputs": [
        {
          "output_type": "stream",
          "text": [
            "[[2 0 0]\n",
            " [0 3 4]\n",
            " [0 4 9]]\n",
            " \n",
            "[[0 1 0]\n",
            " [0 0 1]\n",
            " [1 0 0]]\n",
            " \n",
            "[[2 0 0 0]\n",
            " [1 2 0 0]\n",
            " [0 1 3 0]\n",
            " [0 0 1 3]]\n",
            " \n",
            "[[2 0 0]\n",
            " [0 3 4]\n",
            " [0 4 9]]\n",
            " \n"
          ],
          "name": "stdout"
        }
      ]
    },
    {
      "cell_type": "markdown",
      "metadata": {
        "id": "-eo73C88QzzV"
      },
      "source": [
        ""
      ]
    },
    {
      "cell_type": "code",
      "metadata": {
        "colab": {
          "base_uri": "https://localhost:8080/"
        },
        "id": "Gso4ep2OQ0cG",
        "outputId": "f95e1eca-1056-4408-a7b6-24cc390a9822"
      },
      "source": [
        "# Aplicamos la biblioteca scipy.linalg.eig()\r\n",
        "eigvals1, eigvecs1 = la.eig(B1)\r\n",
        "print('Eigenvalores B1:')\r\n",
        "print(eigvals1)\r\n",
        "print('Eigenvectores B1:')\r\n",
        "print(eigvecs1)\r\n",
        "\r\n",
        "eigvals2, eigvecs2 = la.eig(B1)\r\n",
        "print('Eigenvalores B2:')\r\n",
        "print(eigvals1)\r\n",
        "print('Eigenvectores B2:')\r\n",
        "print(eigvecs1)\r\n",
        "\r\n",
        "eigvals3, eigvecs3 = la.eig(B1)\r\n",
        "print('Eigenvalores B3:')\r\n",
        "print(eigvals3)\r\n",
        "print('Eigenvectores B3:')\r\n",
        "print(eigvecs3)"
      ],
      "execution_count": 24,
      "outputs": [
        {
          "output_type": "stream",
          "text": [
            "Eigenvalores B1:\n",
            "[11.+0.j  1.+0.j  2.+0.j]\n",
            "Eigenvectores B1:\n",
            "[[ 0.          0.          1.        ]\n",
            " [ 0.4472136   0.89442719  0.        ]\n",
            " [ 0.89442719 -0.4472136   0.        ]]\n",
            "Eigenvalores B2:\n",
            "[11.+0.j  1.+0.j  2.+0.j]\n",
            "Eigenvectores B2:\n",
            "[[ 0.          0.          1.        ]\n",
            " [ 0.4472136   0.89442719  0.        ]\n",
            " [ 0.89442719 -0.4472136   0.        ]]\n",
            "Eigenvalores B3:\n",
            "[11.+0.j  1.+0.j  2.+0.j]\n",
            "Eigenvectores B3:\n",
            "[[ 0.          0.          1.        ]\n",
            " [ 0.4472136   0.89442719  0.        ]\n",
            " [ 0.89442719 -0.4472136   0.        ]]\n"
          ],
          "name": "stdout"
        }
      ]
    },
    {
      "cell_type": "markdown",
      "metadata": {
        "id": "IhTtJFK-uWbT"
      },
      "source": [
        "**Ejercicio 5.**\r\n",
        "Se tienen los siguientes 8 puntos: \r\n",
        "\r\n",
        "\\begin{eqnarray*} \r\n",
        "(x&,&y) \\\\\r\n",
        "(0.0 &,& 0.0), \\\\ \r\n",
        "(0.5 &,& 0.47942), \\\\ \r\n",
        "(1.0 &,& 0.84147), \\\\\r\n",
        "(1.5 &,& 0.99749), \\\\\r\n",
        "(2.0 &,& 0.90930), \\\\\r\n",
        "(2.5 &,& 0.59847), \\\\\r\n",
        "(3.0 &,& 0.14112), \\\\\r\n",
        "(3.5 &,& -0.35078) \\\\\r\n",
        "\\end{eqnarray*}\r\n",
        "\r\n",
        "Encuentre un polinomio interpolante $p(x)$ que pase por los 8 puntos. \r\n",
        "\r\n",
        "Sobreponga la función $y=\\sin(x)$ y contrástela con el polinomio $p(x)$.\r\n",
        "\r\n",
        "**Ejercicio 6.** \r\n",
        "Regrese a su modelo de análisis de series de tiempo. Haga una descomposición de su serie de tiempo de las temperaturas (Tmax y Tmin), y realice una regresión lineal sobre la serie de Tendencia de Temp $(T = a_0 + a_1 t)$. Encuentre si la pendiente es positiva o negativa de la tendencia (signo de $a_1$), es decir si las Temperaturas (Tmax, Tmin) están subiendo o bajando en el periodo analizado.\r\n",
        "\r\n",
        "**NOTA:** Pueden trabajar en sus Notebooks de la Actividad 5 o 6 y hacer el ajuste de regresión lineal allá donde tienen todo cargado en la memoria y luego copiar unas celdas de texto de esa Notebook y agregarlas al final de su Notebook de la Actividad 7. Así no tienen que cargar a la memoria todas las operaciones. \r\n"
      ]
    },
    {
      "cell_type": "code",
      "metadata": {
        "colab": {
          "base_uri": "https://localhost:8080/",
          "height": 520
        },
        "id": "KQ9998EBlz5g",
        "outputId": "e78dd627-5e03-413c-83a5-c8551261c0c5"
      },
      "source": [
        "#Declarar matrises \r\n",
        "print(\"matrices\")\r\n",
        "p1 = np.array([[0.0,0.0],[0.5,0.47942],[1.0,0.84147],[1.5,0.99749],[2.0,0.90930],[2.5,0.59847],[3.0,0.14112],[3.5,-0.35078]])\r\n",
        "print(p1)\r\n",
        "#Definirr una lista con x\r\n",
        "x=p1[:,0]\r\n",
        "print(\"x\")\r\n",
        "print(x)\r\n",
        "#Definirr una lista con y \r\n",
        "y=p1[:,1]\r\n",
        "print(\"y\")\r\n",
        "print(y)\r\n",
        "\r\n",
        "\r\n",
        "plt.plot(x,y,'r.')\r\n",
        "plt.grid()\r\n",
        "plt.title('Puntos que deseamos interpolar')\r\n",
        "plt.xlabel('x')\r\n",
        "plt.ylabel('y')\r\n",
        "plt.show()\r\n"
      ],
      "execution_count": 25,
      "outputs": [
        {
          "output_type": "stream",
          "text": [
            "matrices\n",
            "[[ 0.       0.     ]\n",
            " [ 0.5      0.47942]\n",
            " [ 1.       0.84147]\n",
            " [ 1.5      0.99749]\n",
            " [ 2.       0.9093 ]\n",
            " [ 2.5      0.59847]\n",
            " [ 3.       0.14112]\n",
            " [ 3.5     -0.35078]]\n",
            "x\n",
            "[0.  0.5 1.  1.5 2.  2.5 3.  3.5]\n",
            "y\n",
            "[ 0.       0.47942  0.84147  0.99749  0.9093   0.59847  0.14112 -0.35078]\n"
          ],
          "name": "stdout"
        },
        {
          "output_type": "display_data",
          "data": {
            "image/png": "[encoded data removed]",
            "text/plain": [
              "<Figure size 432x288 with 1 Axes>"
            ]
          },
          "metadata": {
            "tags": [],
            "needs_background": "light"
          }
        }
      ]
    },
    {
      "cell_type": "code",
      "metadata": {
        "colab": {
          "base_uri": "https://localhost:8080/"
        },
        "id": "nr83-q_PvIXp",
        "outputId": "6a7f14f1-29a9-461b-bb0a-a6e1f641177a"
      },
      "source": [
        "# Creamos la matriz de Vandemonde\r\n",
        "X = np.vander(x,increasing=True)\r\n",
        "#Es rango 8 porque tenenmos 8 puntos \r\n",
        "print(X)"
      ],
      "execution_count": 26,
      "outputs": [
        {
          "output_type": "stream",
          "text": [
            "[[1.00000000e+00 0.00000000e+00 0.00000000e+00 0.00000000e+00\n",
            "  0.00000000e+00 0.00000000e+00 0.00000000e+00 0.00000000e+00]\n",
            " [1.00000000e+00 5.00000000e-01 2.50000000e-01 1.25000000e-01\n",
            "  6.25000000e-02 3.12500000e-02 1.56250000e-02 7.81250000e-03]\n",
            " [1.00000000e+00 1.00000000e+00 1.00000000e+00 1.00000000e+00\n",
            "  1.00000000e+00 1.00000000e+00 1.00000000e+00 1.00000000e+00]\n",
            " [1.00000000e+00 1.50000000e+00 2.25000000e+00 3.37500000e+00\n",
            "  5.06250000e+00 7.59375000e+00 1.13906250e+01 1.70859375e+01]\n",
            " [1.00000000e+00 2.00000000e+00 4.00000000e+00 8.00000000e+00\n",
            "  1.60000000e+01 3.20000000e+01 6.40000000e+01 1.28000000e+02]\n",
            " [1.00000000e+00 2.50000000e+00 6.25000000e+00 1.56250000e+01\n",
            "  3.90625000e+01 9.76562500e+01 2.44140625e+02 6.10351562e+02]\n",
            " [1.00000000e+00 3.00000000e+00 9.00000000e+00 2.70000000e+01\n",
            "  8.10000000e+01 2.43000000e+02 7.29000000e+02 2.18700000e+03]\n",
            " [1.00000000e+00 3.50000000e+00 1.22500000e+01 4.28750000e+01\n",
            "  1.50062500e+02 5.25218750e+02 1.83826562e+03 6.43392969e+03]]\n"
          ],
          "name": "stdout"
        }
      ]
    },
    {
      "cell_type": "code",
      "metadata": {
        "colab": {
          "base_uri": "https://localhost:8080/"
        },
        "id": "VN4V-tMIzRI2",
        "outputId": "83ff55eb-f17b-4e7b-ce6f-bdb4885d21ab"
      },
      "source": [
        "# Usar scipy.linalg.solve(), para encontrar los coeficientes\r\n",
        "# de la ecuación lineal Xa=y\r\n",
        "\r\n",
        "#y = np.array([[0,0.47942,0.84147,0.99749,0.90930,0.59847,0.14112,-0.35078]]).reshape(8,1)\r\n",
        "a = la.solve(X,y)\r\n",
        "print(a)"
      ],
      "execution_count": 27,
      "outputs": [
        {
          "output_type": "stream",
          "text": [
            "[ 0.00000000e+00  1.00067181e+00 -3.70788889e-03 -1.58867889e-01\n",
            " -8.30222222e-03  1.31964444e-02 -1.54488889e-03  2.46349206e-05]\n"
          ],
          "name": "stdout"
        }
      ]
    },
    {
      "cell_type": "code",
      "metadata": {
        "colab": {
          "base_uri": "https://localhost:8080/",
          "height": 294
        },
        "id": "DuH-gdIQzUnA",
        "outputId": "a6c8c8e5-f904-4198-9400-0417ed1202ee"
      },
      "source": [
        "\r\n",
        "# Graficamos el polinomio interpolante y los puntos interpolados\r\n",
        "# Los puntos interpolados en rojo ('r.')\r\n",
        "xs = np.linspace(0,7,100) #(0,grado del polinomio, puntos)\r\n",
        "ys = sum([a[k]*xs**k for k in range(0,8)])\r\n",
        "\r\n",
        "#Graficación\r\n",
        "plt.plot(x,y,'r.',xs,ys,x,np.sin(x))\r\n",
        "plt.grid()\r\n",
        "plt.title('Polinomio interpolante p(x)')\r\n",
        "plt.xlabel('x')\r\n",
        "plt.ylabel('y')\r\n",
        "plt.xlim(0,4)\r\n",
        "plt.ylim(-2,2)\r\n",
        "plt.show()"
      ],
      "execution_count": 31,
      "outputs": [
        {
          "output_type": "display_data",
          "data": {
            "image/png": "[encoded data removed]",
            "text/plain": [
              "<Figure size 432x288 with 1 Axes>"
            ]
          },
          "metadata": {
            "tags": [],
            "needs_background": "light"
          }
        }
      ]
    },
    {
      "cell_type": "markdown",
      "metadata": {
        "id": "wp9qetrh8l47"
      },
      "source": [
        "# **Ejercicio 6**\r\n",
        "\r\n",
        "**Ejercicio 6.** Regrese a su modelo de análisis de series de tiempo. Haga una descomposición de su serie de tiempo de las temperaturas (Tmax y Tmin), y realice una regresión lineal sobre la serie de Tendencia de Temp $(T = a_0 + a_1 t)$. Encuentre si la pendiente es positiva o negativa de la tendencia (signo de $a_1$), es decir si las Temperaturas (Tmax, Tmin) están subiendo o bajando en el periodo analizado.\r\n",
        "\r\n",
        "**NOTA:** Pueden trabajar en sus Notebooks de la Actividad 5 o 6 y hacer el ajuste de regresión lineal allá donde tienen todo cargado en la memoria y luego copiar unas celdas de texto de esa Notebook y agregarlas al final de su Notebook de la Actividad 7. Así no tienen que cargar a la memoria todas las operaciones."
      ]
    },
    {
      "cell_type": "code",
      "metadata": {
        "colab": {
          "base_uri": "https://localhost:8080/"
        },
        "id": "Hn0R4DdgC7DP",
        "outputId": "36e83cc9-2388-4e88-a4c1-4a6e413f388d"
      },
      "source": [
        "url = 'https://raw.githubusercontent.com/mariron42/Los-trabajos-de-marcel/main/act3/2033.txt' # URL de inf raw\r\n",
        "  \r\n",
        "#Analisasmos a estación de mexicali\r\n",
        "\r\n",
        "#Le damos nombres a las columnas\r\n",
        "my_cols = ['Fecha', 'Precip(MM)', 'Evap(MM)', 'Tmax(°C)', 'Tmin(°C)'] \r\n",
        "\r\n",
        "df_dist = pd.read_csv(url, names=my_cols, encoding='cp1251', sep='\\s+', header=None, skiprows=19, skipfooter=1, engine='python')\r\n",
        "#variable= pd.leer_cvs(variable donde está la base datos, lista que le da nomberes a las columnas, encoding=cp1251(español),El separador de datos es de uno o más espacios, sep='\\s+'\r\n",
        " # Se brincará los primeros 19 renglones y el último, afirmamos que no nay encabezado,# Se procesan los datos utilizando Python, engine='python)\r\n",
        "df_w1 = df_dist.copy() # Se hace una copia del dataframe\r\n",
        "\r\n",
        "str_Nulo = 'Nulo'\r\n",
        "df_w2 = df_w1.replace(to_replace=str_Nulo, value='', regex=True) # Reemplazar Nulo por un espacio en blanco\r\n",
        "\r\n",
        "cols_list = ['Precip(MM)', 'Evap(MM)', 'Tmax(°C)', 'Tmin(°C)']\r\n",
        "for cols in cols_list:\r\n",
        "  df_w2[cols] = pd.to_numeric(df_w2[cols], errors='coerce') # Se convierten a números flotantes \r\n",
        "#df_w2.info()\r\n",
        "\r\n",
        "# De la instrucción anterior, vemos que hay valores faltantes. Sumamos los valores nulos. \r\n",
        "df_w2.isnull().sum()\r\n",
        "\r\n",
        "# Un análisis estadístico breve de las variables numéricas redondeado a 2 cifras significativas\r\n",
        "df_w2.describe().round(2)\r\n",
        "\r\n",
        "df_w3 = df_w2.copy() # Se hace una copia del dataframe\r\n",
        "\r\n",
        "df_w3['Fecha']=pd.to_datetime(df_w3['Fecha'], dayfirst=True).copy() # Primer dato que sea dia\r\n",
        "#df_w3['year'] = df_w3['Fecha'].dt.year # Columna de año\r\n",
        "#df_w3['month'] = df_w3['Fecha'].dt.month # Columna de mes\r\n",
        "#df_w3['Precip(MM)']=df_w3.index\r\n",
        "df_w3['Fecha2']=df_w3['Fecha']\r\n",
        "df_w3 = df_w3.set_index('Fecha2') # Verificar tipos\r\n",
        "start, end = '1998-01', '2012-10'\r\n",
        "df_meteo = df_w3.loc[start:end].copy()\r\n",
        "\r\n",
        "#df_meteo = df_w3.copy() # Archico con que trabajar actividad 4\r\n",
        "# df_meteo.info()\r\n",
        "print(df_meteo.head())\r\n",
        "print(df_meteo.tail())\r\n",
        "print(df_meteo['Tmax(°C)'].isnull().values.any())\r\n",
        "print(df_meteo['Tmin(°C)'].isnull().values.any())"
      ],
      "execution_count": 127,
      "outputs": [
        {
          "output_type": "stream",
          "text": [
            "                Fecha  Precip(MM)  Evap(MM)  Tmax(°C)  Tmin(°C)\n",
            "Fecha2                                                         \n",
            "1998-01-01 1998-01-01         0.0       0.8      21.0       8.5\n",
            "1998-01-02 1998-01-02         0.0       1.4      21.0       7.3\n",
            "1998-01-03 1998-01-03         0.2       0.8      20.6       7.5\n",
            "1998-01-04 1998-01-04         0.0       3.4      19.6       9.8\n",
            "1998-01-05 1998-01-05         0.0       1.4      19.5       8.8\n",
            "                Fecha  Precip(MM)  Evap(MM)  Tmax(°C)  Tmin(°C)\n",
            "Fecha2                                                         \n",
            "2012-10-27 2012-10-27         0.0       7.6      30.0      14.0\n",
            "2012-10-28 2012-10-28         0.0       5.0      31.4      12.5\n",
            "2012-10-29 2012-10-29         0.0       4.1      32.6      13.0\n",
            "2012-10-30 2012-10-30         0.0       4.2      33.2      13.5\n",
            "2012-10-31 2012-10-31         0.0       5.4      32.8      14.0\n",
            "False\n",
            "False\n"
          ],
          "name": "stdout"
        }
      ]
    },
    {
      "cell_type": "code",
      "metadata": {
        "id": "HrRNYy40C8PK"
      },
      "source": [
        "from datetime import datetime as dt\r\n",
        "import time\r\n",
        "\r\n",
        "def toYearFraction(date):\r\n",
        "    def sinceEpoch(date): # returns seconds since epoch\r\n",
        "        return time.mktime(date.timetuple())\r\n",
        "    s = sinceEpoch\r\n",
        "\r\n",
        "    year = date.year\r\n",
        "    startOfThisYear = dt(year=year, month=1, day=1)\r\n",
        "    startOfNextYear = dt(year=year+1, month=1, day=1)\r\n",
        "\r\n",
        "    yearElapsed = s(date) - s(startOfThisYear)\r\n",
        "    yearDuration = s(startOfNextYear) - s(startOfThisYear)\r\n",
        "    fraction = yearElapsed/yearDuration\r\n",
        "\r\n",
        "    return date.year + fraction"
      ],
      "execution_count": 128,
      "outputs": []
    },
    {
      "cell_type": "code",
      "metadata": {
        "colab": {
          "base_uri": "https://localhost:8080/"
        },
        "id": "sgA9qCtoDBg2",
        "outputId": "109a45b8-3ea6-468d-b56f-56257de747a8"
      },
      "source": [
        "df_act=df_meteo # Se trabajara con este dataframe\r\n",
        "df_act['FechaDecimal']=df_meteo['Tmax(°C)'] # Se crea una columna copiando otra \r\n",
        "del(df_act['Precip(MM)']) # Se elimina\r\n",
        "del(df_act['Evap(MM)']) # Se elimina\r\n",
        "\r\n",
        "N=len(df_act) # Longitud del dataframe\r\n",
        "\r\n",
        "for x in range(N): #Repetir por todo el rango del dataframe\r\n",
        "  index=x\r\n",
        "  df_act['FechaDecimal'].iloc[index]=toYearFraction(df_act['Fecha'].iloc[index]) # Hacer decimal la fecha\r\n",
        "\r\n",
        "del(df_act['Fecha']) # Se elimina\r\n",
        "df_act= df_act.astype(float) # Cambiar los tipos\r\n",
        "\r\n",
        "print(df_act.head())\r\n",
        "print(df_act.tail())\r\n",
        "df_act.dtypes"
      ],
      "execution_count": 129,
      "outputs": [
        {
          "output_type": "stream",
          "text": [
            "/usr/local/lib/python3.7/dist-packages/pandas/core/indexing.py:670: SettingWithCopyWarning: \n",
            "A value is trying to be set on a copy of a slice from a DataFrame\n",
            "\n",
            "See the caveats in the documentation: https://pandas.pydata.org/pandas-docs/stable/user_guide/indexing.html#returning-a-view-versus-a-copy\n",
            "  iloc._setitem_with_indexer(indexer, value)\n"
          ],
          "name": "stderr"
        },
        {
          "output_type": "stream",
          "text": [
            "            Tmax(°C)  Tmin(°C)  FechaDecimal\n",
            "Fecha2                                      \n",
            "1998-01-01      21.0       8.5   1998.000000\n",
            "1998-01-02      21.0       7.3   1998.002740\n",
            "1998-01-03      20.6       7.5   1998.005479\n",
            "1998-01-04      19.6       9.8   1998.008219\n",
            "1998-01-05      19.5       8.8   1998.010959\n",
            "            Tmax(°C)  Tmin(°C)  FechaDecimal\n",
            "Fecha2                                      \n",
            "2012-10-27      30.0      14.0   2012.819672\n",
            "2012-10-28      31.4      12.5   2012.822404\n",
            "2012-10-29      32.6      13.0   2012.825137\n",
            "2012-10-30      33.2      13.5   2012.827869\n",
            "2012-10-31      32.8      14.0   2012.830601\n"
          ],
          "name": "stdout"
        },
        {
          "output_type": "execute_result",
          "data": {
            "text/plain": [
              "Tmax(°C)        float64\n",
              "Tmin(°C)        float64\n",
              "FechaDecimal    float64\n",
              "dtype: object"
            ]
          },
          "metadata": {
            "tags": []
          },
          "execution_count": 129
        }
      ]
    },
    {
      "cell_type": "code",
      "metadata": {
        "colab": {
          "base_uri": "https://localhost:8080/"
        },
        "id": "ZV66MszPDFAB",
        "outputId": "70d3edef-4b22-45d3-92a5-0924b82b878d"
      },
      "source": [
        "#Construimos la matriz de Vandermonde\r\n",
        "x=df_act['FechaDecimal']\r\n",
        "X=np.column_stack([np.ones(N),x])\r\n",
        "print('Shape:', X.shape)"
      ],
      "execution_count": 130,
      "outputs": [
        {
          "output_type": "stream",
          "text": [
            "Shape: (5415, 2)\n"
          ],
          "name": "stdout"
        }
      ]
    },
    {
      "cell_type": "code",
      "metadata": {
        "id": "3xxoUhn_DH3-"
      },
      "source": [
        "#Construimos las matrices \"y\"\r\n",
        "ymax=np.array(df_act['Tmax(°C)'])\r\n",
        "ymin=np.array(df_act['Tmin(°C)'])"
      ],
      "execution_count": 131,
      "outputs": []
    },
    {
      "cell_type": "code",
      "metadata": {
        "colab": {
          "base_uri": "https://localhost:8080/"
        },
        "id": "QNIlmqEfDLSl",
        "outputId": "7b45b91e-b4d6-48f7-e27a-0c8c6003a626"
      },
      "source": [
        "#Usamos la función scipy.linalg.solve() para resolver la ecuación X.T@X@a = X.T@y respecto a 'a'\r\n",
        "amax = la.solve(X.T @ X, X.T @ ymax)\r\n",
        "amin = la.solve(X.T @ X, X.T @ ymin)\r\n",
        "print('Para Tmax')\r\n",
        "print(amax)\r\n",
        "print('Para Tmin')\r\n",
        "print(amin)"
      ],
      "execution_count": 132,
      "outputs": [
        {
          "output_type": "stream",
          "text": [
            "Para Tmax\n",
            "[-2.30209045e+02  1.30772408e-01]\n",
            "Para Tmin\n",
            "[-1.42172360e+02  7.91231317e-02]\n"
          ],
          "name": "stdout"
        }
      ]
    },
    {
      "cell_type": "code",
      "metadata": {
        "colab": {
          "base_uri": "https://localhost:8080/"
        },
        "id": "aN-YxTE8j_zd",
        "outputId": "ae68a0a4-b354-49bc-9d6d-68cffaf2969a"
      },
      "source": [
        "dtmax = amax[0] + amax[1]\r\n",
        "\r\n",
        "dtmin = amin[0] + amin[1]\r\n",
        "\r\n",
        "print(\"Temperatura maxima aprox\", dtmax)\r\n",
        "print(\"Temperatura minima aprox\", dtmin)"
      ],
      "execution_count": 135,
      "outputs": [
        {
          "output_type": "stream",
          "text": [
            "Temperatura maxima aprox -230.0782727383178\n",
            "Temperatura minima aprox -142.0932372699992\n"
          ],
          "name": "stdout"
        }
      ]
    },
    {
      "cell_type": "markdown",
      "metadata": {
        "id": "aQyz1p-VSNGm"
      },
      "source": [
        "Entonces en la temperatura maxima \r\n",
        "\r\n",
        "**a0=-2.30209045e+02**\r\n",
        "\r\n",
        "**a1=1.30772408e-01**\r\n",
        "\r\n",
        "y de la temperatura minima \r\n",
        "\r\n",
        "**a0=-1.42172360e+02**\r\n",
        "\r\n",
        "**a1=7.91231317e-02**\r\n",
        "\r\n",
        "\r\n"
      ]
    }
  ]
}