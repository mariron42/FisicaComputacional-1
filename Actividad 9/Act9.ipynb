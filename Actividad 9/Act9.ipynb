{
  "nbformat": 4,
  "nbformat_minor": 0,
  "metadata": {
    "colab": {
      "name": "Act9.ipynb",
      "provenance": [],
      "authorship_tag": "ABX9TyMNrRqUGvHn/+8Rm9rB8Zx9",
      "include_colab_link": true
    },
    "kernelspec": {
      "name": "python3",
      "display_name": "Python 3"
    },
    "language_info": {
      "name": "python"
    }
  },
  "cells": [
    {
      "cell_type": "markdown",
      "metadata": {
        "id": "view-in-github",
        "colab_type": "text"
      },
      "source": [
        "<a href=\"https://colab.research.google.com/github/mariron42/FisicaComputacional-1/blob/main/Actividad%209/Act9.ipynb\" target=\"_parent\"><img src=\"https://colab.research.google.com/assets/colab-badge.svg\" alt=\"Open In Colab\"/></a>"
      ]
    },
    {
      "cell_type": "markdown",
      "metadata": {
        "id": "SowqPdMaoEvX"
      },
      "source": [
        "**Actividad 9** \n",
        "\n",
        "\n",
        "---\n",
        "\n",
        "\n",
        "Marcel Herrera Rendón"
      ]
    },
    {
      "cell_type": "code",
      "metadata": {
        "id": "WnycB89C62-R"
      },
      "source": [
        "import numpy as np\n",
        "import matplotlib.pyplot as plt\n",
        "from numpy.linalg import matrix_power as mpow\n",
        "import scipy.linalg as la\n",
        "from scipy.integrate import odeint\n",
        "import pylab as pl\n",
        "import pandas as pd\n",
        "\n",
        "#definir pi\n",
        "pi=np.pi"
      ],
      "execution_count": 29,
      "outputs": []
    },
    {
      "cell_type": "markdown",
      "metadata": {
        "id": "ijI8iybvg9Gu"
      },
      "source": [
        "**Ejercicios**.\n",
        "\n",
        "Por favor grafique en el espacio fase una familia de soluciones y determine el tipo de punto crítico de cada uno de los siguientes sistemas de ecuaciones.\n",
        "\n"
      ]
    },
    {
      "cell_type": "markdown",
      "metadata": {
        "id": "O4lRmIsdhDXa"
      },
      "source": [
        "**Ejercicio 1.** \n",
        "\n",
        "\\begin{eqnarray*}\n",
        "\\frac{d x}{d t} & = & y  \\\\\n",
        "\\frac{d y}{dt } & = & -x   \\\\\n",
        "\\end{eqnarray*}\n"
      ]
    },
    {
      "cell_type": "code",
      "metadata": {
        "id": "q9H43tpl7EKI"
      },
      "source": [
        "#Volvemos a escibir eñ sistema de  ecuaciones como \n",
        "#dx/dt= 0x+1y\n",
        "#dy/dt=-1x+0y\n",
        "\n",
        "#creamos un vector de variables\n",
        "#vecX=[x]\n",
        "#     [y]\n",
        "\n",
        "#Hacemos un sist,a de ecuciones \n",
        "#d/dt[x,y]=dx/dt[0x+1*y]\n",
        "#               [-1x+0*y]\n",
        "\n",
        "#Llegamos a \n",
        "\n",
        "#dvecX/dt=[0, 1]*[x]                 \n",
        "#         [-1,0] [y]\n",
        "\n",
        "#La cosa que armasmos la volvemos una matriz A\n",
        "\n",
        "#A=[0,1 ]\n",
        "#  [-1,0]\n"
      ],
      "execution_count": 30,
      "outputs": []
    },
    {
      "cell_type": "code",
      "metadata": {
        "id": "2TKeMCfYLGYY"
      },
      "source": [
        "#DEFINIR FUCNIÓN PARA CALCULAR LAS RAIZES \n",
        "def raices(p,q):\n",
        "  dis = p**2 - 4*q #DISCIMINANTE\n",
        "  if ( dis < 0 ):\n",
        "    absdis = abs ( dis ) # Convertimos en valor absoluta para que sea calculable\n",
        "    λ1 = ( p + np.sqrt( absdis ) )*( 1/2 )\n",
        "    λ2 = ( p - np.sqrt( absdis ) )*( 1/2 )  \n",
        "    print( \" λ1 = \", λ1, \"i\" ) # Raíces Imaginarias\n",
        "    print( \" λ2 = \", λ2, \"i\" )\n",
        "  else:\n",
        "    λ1 = ( p + np.sqrt( dis ) )*( 1/2 )\n",
        "    λ2 = ( p - np.sqrt( dis ) )*( 1/2 ) \n",
        "\n",
        "  print( \" λ1 = \", λ1 ) # Raíces Reales\n",
        "  print( \" λ2 = \", λ2 )\n",
        "  return(λ1,λ2)\n",
        " \n"
      ],
      "execution_count": 31,
      "outputs": []
    },
    {
      "cell_type": "code",
      "metadata": {
        "colab": {
          "base_uri": "https://localhost:8080/"
        },
        "id": "-yDfOtCRBZHR",
        "outputId": "ac20866c-b6b2-4cb2-a52c-c4a4718bda2c"
      },
      "source": [
        "#Definir y mostrar la matriz A\n",
        "A=np.array([[0,1],[-1,0]])\n",
        "print(\"\"\"A=\n",
        "\"\"\",A)\n",
        "#Cacular la traza de A\n",
        "p=np.trace(A)\n",
        "print(\"traza de A=\",p)\n",
        "#calcular determinante de A\n",
        "q = la.det( A )\n",
        "print( \"determinte q de A = \", q)\n",
        "\n",
        "#Calcular las raices \n",
        "# Polinomio característico de det( A - λI )\n",
        "# p( λ ) = λ^2 - pλ + q\n",
        "#Usar la función creada previemente \n",
        "print(\"Las raices\")\n",
        "raices(p,q)\n"
      ],
      "execution_count": 33,
      "outputs": [
        {
          "output_type": "stream",
          "text": [
            "A=\n",
            " [[ 0  1]\n",
            " [-1  0]]\n",
            "traza de A= 0\n",
            "determinte q de A =  1.0\n",
            "Las raices\n",
            " λ1 =  1.0 i\n",
            " λ2 =  -1.0 i\n",
            " λ1 =  1.0\n",
            " λ2 =  -1.0\n"
          ],
          "name": "stdout"
        },
        {
          "output_type": "execute_result",
          "data": {
            "text/plain": [
              "(1.0, -1.0)"
            ]
          },
          "metadata": {
            "tags": []
          },
          "execution_count": 33
        }
      ]
    },
    {
      "cell_type": "markdown",
      "metadata": {
        "id": "IKnsHc5nUX_P"
      },
      "source": [
        "Semos que pertenece al caso c"
      ]
    },
    {
      "cell_type": "code",
      "metadata": {
        "colab": {
          "base_uri": "https://localhost:8080/",
          "height": 732
        },
        "id": "QfwkGyr_NvMj",
        "outputId": "41b17e28-6ec9-4336-fa9e-8aab5bd4ab95"
      },
      "source": [
        "#Solucionar la ed#\n",
        "#Condciones inicales \n",
        "\n",
        "t = np.linspace( 0, 2*pi, 51 )\n",
        "\n",
        "a = 0\n",
        "b = 1\n",
        "\n",
        "c1 = 1\n",
        "c2 = 1\n",
        "c3 = 2\n",
        " \n",
        "#Base canonica \n",
        "v1 = np.array( [ [ 1 ], [ 0 ] ] )\n",
        "#Imaginarias \n",
        "v2 = np.array( [ [ 0 ], [ 1 ] ] )\n",
        "# print( v2, \" = v2 \" )\n",
        "\n",
        "#Definir la funcion que calcula la solución\n",
        "def x( t, a, b, c1, c2, v1, v2 ):\n",
        "  #Termino 1\n",
        "  w1 = c1*( np.cos( b*t ) + np.sin( b*t ) )*v1\n",
        "  #Termino 2 \n",
        "  w2 = c2*( np.cos( b*t ) - np.sin( b*t ) )*v2\n",
        "  c = np.exp( a*t ) # Factor de la solución\n",
        " \n",
        "  return ( w1 + w2 )*c\n",
        "\n",
        "# Solución para c1 = 1 y c2 = 1\n",
        "Sol1 = x( t, a, b, c1, c2, v1, v2 ) \n",
        "xx1 = Sol1[ 0, : ]\n",
        "xy1 = Sol1[ 1, : ]\n",
        "    \n",
        "# Solución para c1 = 1 y c2 = 2\n",
        "Sol2 = x( t, a, b, c1, c3, v1, v2 ) \n",
        "xx2 = Sol2[ 0, : ]\n",
        "xy2 = Sol2[ 1, : ]\n",
        "\n",
        "#Graficar \n",
        "plt.figure( figsize = ( 10, 12 ) )\n",
        "plt.plot( xx1, xy1, \"r.-\", label = \"para $c2$ = 1\" )\n",
        "plt.plot( xx2, xy2, \"b.-\", label = \"para $c2$ = 2\" )\n",
        "plt.legend( loc = \"best\" )\n",
        "plt.title( \"Plano Fase para la solución del sistema $dx/dt = y$, $dy/dt = -x$\" )\n",
        "plt.xlabel( \"x\" )\n",
        "plt.ylabel( \"y\" )\n",
        "plt.grid()\n",
        "plt.show()"
      ],
      "execution_count": 34,
      "outputs": [
        {
          "output_type": "display_data",
          "data": {
            "image/png": "[encoded data removed]",
            "text/plain": [
              "<Figure size 720x864 with 1 Axes>"
            ]
          },
          "metadata": {
            "tags": [],
            "needs_background": "light"
          }
        }
      ]
    },
    {
      "cell_type": "markdown",
      "metadata": {
        "id": "4s6FctP9_9oF"
      },
      "source": [
        ""
      ]
    },
    {
      "cell_type": "markdown",
      "metadata": {
        "id": "lAGlpZ1PhKyn"
      },
      "source": [
        "**Ejercicio 2.** \n",
        "\n",
        "\\begin{eqnarray*}\n",
        "\\frac{d x}{d t} & = & y  \\\\\n",
        "\\frac{d y}{dt } & = &  x  \\\\\n",
        "\\end{eqnarray*}\n"
      ]
    },
    {
      "cell_type": "code",
      "metadata": {
        "colab": {
          "base_uri": "https://localhost:8080/"
        },
        "id": "RCfxS7BOTTTR",
        "outputId": "242a5fd5-606a-4b32-dd25-013d17688101"
      },
      "source": [
        "#Definir y mostrar la matriz A\n",
        "A=np.array([[1,0],[0,1]])\n",
        "print(\"\"\"A=\n",
        "\"\"\",A)\n",
        "#Cacular la traza de A\n",
        "p=np.trace(A)\n",
        "print(\"traza de A=\",p)\n",
        "#calcular determinante de A\n",
        "q = la.det( A )\n",
        "print( \"determinte q de A = \", q)\n",
        "\n",
        "#Calcular las raices \n",
        "# Polinomio característico de det( A - λI )\n",
        "# p( λ ) = λ^2 - pλ + q\n",
        "#Usar la función creada previemente \n",
        "print(\"Las raices\")\n",
        "raices(p,q)"
      ],
      "execution_count": 35,
      "outputs": [
        {
          "output_type": "stream",
          "text": [
            "A=\n",
            " [[1 0]\n",
            " [0 1]]\n",
            "traza de A= 2\n",
            "determinte q de A =  1.0\n",
            "Las raices\n",
            " λ1 =  1.0\n",
            " λ2 =  1.0\n"
          ],
          "name": "stdout"
        },
        {
          "output_type": "execute_result",
          "data": {
            "text/plain": [
              "(1.0, 1.0)"
            ]
          },
          "metadata": {
            "tags": []
          },
          "execution_count": 35
        }
      ]
    },
    {
      "cell_type": "markdown",
      "metadata": {
        "id": "5W1mW9g2UfHU"
      },
      "source": [
        "Sabemos que pertence al caso A"
      ]
    },
    {
      "cell_type": "code",
      "metadata": {
        "colab": {
          "base_uri": "https://localhost:8080/",
          "height": 885
        },
        "id": "RChCVfWbUtsS",
        "outputId": "800d5f3f-636f-4fbd-e8c8-f13784a4a07d"
      },
      "source": [
        "#Solucionar la ed#\n",
        "#Condciones inicales \n",
        "λ = 1\n",
        "μ = 1\n",
        "\n",
        "c1 = 1\n",
        "c2 = 1\n",
        "c3 = 2\n",
        "#########################################\n",
        "print( \"Eigenvectores y Eigenvalores\" )\n",
        "#Calcular eigenvectores y eigenvalores\n",
        "eigvals, eigvecs = la.eig( A ) \n",
        "\n",
        "print( \"Eigenvalores de A = \", eigvals )\n",
        "print( \"Eigenvectores de A\",eigvecs )\n",
        "# ( [ 1 ], [ 0 ] )\n",
        "eigv1 = ( eigvecs[:,0] ) \n",
        "# Eigenvector 1:\n",
        "v1 = np.array( [ [ 1 ], [ 0 ] ] ) \n",
        "print( \"v1=\",v1 )\n",
        "# ( [ 0 ], [ 1 ] )\n",
        "eigv2 = ( eigvecs[:,1] ) \n",
        "# Eigenvector 2:\n",
        "v2 = np.array( [ [ 0 ], [ 1 ] ] ) \n",
        "print( v2, \" = v2 \" ), print( \" \" )\n",
        "#########################################\n",
        "\n",
        "# Redefinir la función que calcula la solución para este caso\n",
        "\n",
        "def x( t, λ, μ, c1, c2, v1, v2 ):\n",
        "  w1 = c1*( t**λ )*v1\n",
        "  w2 = c2*( t**μ )*v2\n",
        "  return w1 + w2\n",
        "\n",
        "# Solución c1 = 1 y c2 = 1\n",
        "Sol1 = x( t, λ, μ, c1, c2, v1, v2 ) \n",
        "xx1 = Sol1[ 0, : ]\n",
        "xy1 = Sol1[ 1, : ]\n",
        "\n",
        "# Solución c1 = 1 y c2 = 1\n",
        "Sol2 = x( t, λ, μ, c1, c3, v1, v2 ) \n",
        "xx2 = Sol2[ 0, : ]\n",
        "xy2 = Sol2[ 1, : ]\n",
        "\n",
        "#Graficar \n",
        "plt.figure( figsize = ( 8, 12 ) )\n",
        "plt.plot( xx1, xy1, \"r.-\", label = \"para $c2$ = 1\" )\n",
        "plt.plot( xx2, xy2, \"b.-\", label = \"para $c2$ = 2\" )\n",
        "plt.legend( loc = \"best\" )\n",
        "plt.title( \"Plano Fase para la solución del sistema $dx/dt = y$, $dy/dt = x$\" )\n",
        "plt.xlabel( \"x\" )\n",
        "plt.ylabel( \"y\" )\n",
        "\n",
        "plt.grid()\n",
        "plt.show()"
      ],
      "execution_count": 38,
      "outputs": [
        {
          "output_type": "stream",
          "text": [
            "Eigenvectores y Eigenvalores\n",
            "Eigenvalores de A =  [1.+0.j 1.+0.j]\n",
            "Eigenvectores de A [[1. 0.]\n",
            " [0. 1.]]\n",
            "v1= [[1]\n",
            " [0]]\n",
            "[[0]\n",
            " [1]]  = v2 \n",
            " \n"
          ],
          "name": "stdout"
        },
        {
          "output_type": "display_data",
          "data": {
            "image/png": "[encoded data removed]",
            "text/plain": [
              "<Figure size 576x864 with 1 Axes>"
            ]
          },
          "metadata": {
            "tags": [],
            "needs_background": "light"
          }
        }
      ]
    },
    {
      "cell_type": "markdown",
      "metadata": {
        "id": "b3TIydbXhP7q"
      },
      "source": [
        "**Ejercicio 3.** \n",
        "\n",
        "\\begin{eqnarray*}\n",
        "\\frac{d^2 x}{d t^2} + \\omega_0^2 x & = & 0, \\ \\omega_0 > 0  \\\\\n",
        "\\end{eqnarray*}\n",
        "\n"
      ]
    },
    {
      "cell_type": "markdown",
      "metadata": {
        "id": "9gaF0kQehT-u"
      },
      "source": [
        "**Ejercicio 4.** \n",
        "\n",
        "\\begin{eqnarray*}\n",
        "\\frac{d x}{d t} & = & -2 x  \\\\\n",
        "\\frac{d y}{dt } & = &  2 z  \\\\\n",
        "\\frac{d z}{dt } & = &  - 2 y  \\\\\n",
        "\\end{eqnarray*}"
      ]
    },
    {
      "cell_type": "markdown",
      "metadata": {
        "id": "kYTQgBYWheog"
      },
      "source": [
        "**Ejercicio 5.** \n",
        "\n",
        "\\begin{eqnarray*}\n",
        "\\frac{d x}{d t} & = & - x + z  \\\\\n",
        "\\frac{d y}{dt } & = &  3 y  \\\\\n",
        "\\frac{d z}{dt } & = &  - x - z \\\\\n",
        "\\end{eqnarray*}"
      ]
    },
    {
      "cell_type": "markdown",
      "metadata": {
        "id": "1b7mQPhchl1F"
      },
      "source": [
        "Resuelva los siguientes problemas de valor inicial\n",
        "\n",
        "**Ejercicio 6:**\n",
        "\n",
        "\\begin{eqnarray*}\n",
        "\\frac{d x}{d t} & = & - x  \\\\\n",
        "\\frac{d y}{dt } & = &  x + 2 y  \\\\\n",
        "x(0) = 0, & & y(0) = 3\n",
        "\\end{eqnarray*}"
      ]
    },
    {
      "cell_type": "markdown",
      "metadata": {
        "id": "FSJxY-2hhmxy"
      },
      "source": [
        "**Ejercicio 7:**\n",
        "\n",
        "\\begin{eqnarray*}\n",
        "\\frac{d x}{d t} & = & 2 x + y  \\\\\n",
        "\\frac{d y}{dt } & = &  x +  y  \\\\\n",
        "x(1) = 1, & & y(1) = 1\n",
        "\\end{eqnarray*}"
      ]
    },
    {
      "cell_type": "markdown",
      "metadata": {
        "id": "Vv4M0MYxhrsE"
      },
      "source": [
        "**Ejercicio 8:**\n",
        "\n",
        "\\begin{eqnarray*}\n",
        "\\frac{d x}{d t} & = & A x  \\\\\n",
        "x(0) & = & (0,3) \\\\\n",
        "A & = & \\begin{bmatrix}\n",
        "0 & 3 \\\\\n",
        "1 & -2 \\\\\n",
        "\\end{bmatrix}\n",
        "\\end{eqnarray*}"
      ]
    },
    {
      "cell_type": "markdown",
      "metadata": {
        "id": "s5t7lInwhvKA"
      },
      "source": [
        "**Ejercicio 9:**\n",
        "\n",
        "\\begin{eqnarray*}\n",
        "\\frac{d x}{d t} & = & A x  \\\\\n",
        "x(0) & = & (0,-b,b) \\\\\n",
        "A & = & \\begin{bmatrix}\n",
        "2 & 0 & 0 \\\\\n",
        "0 & -1 & 0 \\\\\n",
        "0 & 2 & -3 \\\\\n",
        "\\end{bmatrix}\n",
        "\\end{eqnarray*}"
      ]
    },
    {
      "cell_type": "markdown",
      "metadata": {
        "id": "WUyVeYv8iIVg"
      },
      "source": [
        "**Ejercicio 10:** \n",
        "\n",
        "Se tiene el siguiente sistema de resortes acoplados con dos masas.  \n",
        "\n",
        "![Screen Shot 2021-03-18 at 00.35.32.png](data:image/png;base64,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)"
      ]
    },
    {
      "cell_type": "markdown",
      "metadata": {
        "id": "WQXM4RCbiJ0L"
      },
      "source": [
        "El sistema esta sujeto del primer resorte de la izquierda. Cuando el sistema se deja en reposo, las longitudes de los resortes son $L_1$ y $L_2$.\n",
        "\n",
        "Las ecuaciones de movimiento estan dadas por las siguientes ecuaciones diferenciales acopladas:\n",
        "\n",
        "\\begin{eqnarray*}\n",
        "m_1 x_1^{''} + b_1 x_1^{'}+k_1 (x_1-L_1)-k_2(x_2-x_1-L_2) & = & 0 \\\\\n",
        "m_2 x_2^{''} + b_2 x_2^{'}+k_2(x_2-x_1-L_2) & = & 0 \\\\\n",
        "\\end{eqnarray*}\n",
        "\n",
        "Encuentre las soluciones como funciones de $t$ y grafíquelas, así como las trayectorias en el espacio fase.\n",
        "\n",
        "Suponga que $L_1=L_2=1$ y que las masas son iguales $m_1=m_2=1$.  \n"
      ]
    },
    {
      "cell_type": "markdown",
      "metadata": {
        "id": "-0WwCkZ_iX3d"
      },
      "source": [
        "\n",
        "**10.1)** Encuentre los eigenvalores del sistema y diga como son las soluciones.  \n"
      ]
    },
    {
      "cell_type": "markdown",
      "metadata": {
        "id": "nzKV7X42iaw1"
      },
      "source": [
        ""
      ]
    },
    {
      "cell_type": "markdown",
      "metadata": {
        "id": "NuQpZrTknAFX"
      },
      "source": [
        "**10.2)** Caso sin fricción. $b_1=b_2=0$, $k_1=6$, $k_2=4$, condiciones iniciales $(x_1(0), x_1^{'}(0), x_2(0), x_2^{'}(0))=(1,0,4,0)$ \n"
      ]
    },
    {
      "cell_type": "markdown",
      "metadata": {
        "id": "oWJ8pCV5nDzJ"
      },
      "source": [
        "\n",
        "**10.3)** Igual que el caso anterior pero, con fricción: $b_1=0.1, b_2=0.2$"
      ]
    },
    {
      "cell_type": "code",
      "metadata": {
        "id": "VEoqR-mrgpzx"
      },
      "source": [
        ""
      ],
      "execution_count": null,
      "outputs": []
    },
    {
      "cell_type": "code",
      "metadata": {
        "id": "n1ww5kfxhf-v"
      },
      "source": [
        ""
      ],
      "execution_count": null,
      "outputs": []
    }
  ]
}